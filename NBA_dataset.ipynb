{
  "nbformat": 4,
  "nbformat_minor": 0,
  "metadata": {
    "colab": {
      "name": "NBA dataset.ipynb",
      "provenance": [],
      "collapsed_sections": [
        "I36yunOXzrcr",
        "eghDFCl3ptaJ",
        "hMs_JaQAp5jS",
        "y8w54ROTuEaO"
      ],
      "authorship_tag": "ABX9TyMJMbDo6L+e24PfdD1gMil7",
      "include_colab_link": true
    },
    "kernelspec": {
      "name": "python3",
      "display_name": "Python 3"
    },
    "language_info": {
      "name": "python"
    }
  },
  "cells": [
    {
      "cell_type": "markdown",
      "metadata": {
        "id": "view-in-github",
        "colab_type": "text"
      },
      "source": [
        "<a href=\"https://colab.research.google.com/github/minhht0212/CoderSchool-/blob/main/NBA_dataset.ipynb\" target=\"_parent\"><img src=\"https://colab.research.google.com/assets/colab-badge.svg\" alt=\"Open In Colab\"/></a>"
      ]
    },
    {
      "cell_type": "code",
      "execution_count": null,
      "metadata": {
        "colab": {
          "base_uri": "https://localhost:8080/"
        },
        "id": "4i2qZ4c4RZ3U",
        "outputId": "71b77a8c-4854-4c1e-ea13-221e347d2049"
      },
      "outputs": [
        {
          "output_type": "stream",
          "name": "stdout",
          "text": [
            "Mounted at /content/gdrive\n"
          ]
        }
      ],
      "source": [
        "from google.colab import drive\n",
        "drive.mount('/content/gdrive',force_remount=True)"
      ]
    },
    {
      "cell_type": "code",
      "source": [
        "# Mount to Google Sheets \n",
        "from google.colab import auth\n",
        "auth.authenticate_user()\n",
        "\n",
        "# Import neccessary libraries -- Đi học syntax \n",
        "import gspread\n",
        "from oauth2client.client import GoogleCredentials\n",
        "from gspread_dataframe import set_with_dataframe\n",
        "\n",
        "# Authorize Google Sheets API\n",
        "gc = gspread.authorize(GoogleCredentials.get_application_default())"
      ],
      "metadata": {
        "id": "8G3j9uuxWx26"
      },
      "execution_count": null,
      "outputs": []
    },
    {
      "cell_type": "code",
      "source": [
        "import gspread\n",
        "from google.auth import default\n",
        "creds, _ = default()\n",
        "\n",
        "gc = gspread.authorize(creds)"
      ],
      "metadata": {
        "id": "rLcvEVS5Zu4n"
      },
      "execution_count": null,
      "outputs": []
    },
    {
      "cell_type": "code",
      "source": [
        "def export_data_to_new_sheet(gsheet_key, worksheet_name, data):\n",
        "    \"\"\"gsheet_key (str): ID of Google Sheet File. (Key is the part behind /d/ and before /edit\n",
        "                   For example: https://docs.google.com/spreadsheets/d/1WISuNUrWc-7BPO2s-pD3P3qqqgiLh0wRpvTNNtN21gA/edit?usp=sharing\n",
        "                   Key is 1WISuNUrWc-7BPO2s-pD3P3qqqgiLh0wRpvTNNtN21gA\n",
        "       worksheet_id (int): 0, 1, 2, ... \n",
        "       data (DataFrame): data to write\n",
        "    \"\"\"\n",
        "    sh = gc.open_by_key(gsheet_key)\n",
        "    \n",
        "    # To create a new worksheet with 1000 rows and 26 columns\n",
        "    worksheet = sh.add_worksheet(worksheet_name, 1000, 26)\n",
        "\n",
        "    # For writing to an existing worksheet\n",
        "    # worksheet = sh.get_worksheet(0) # --> to get the first worksheet\n",
        "\n",
        "    set_with_dataframe(worksheet, data)"
      ],
      "metadata": {
        "id": "6xGnoYsGGcVl"
      },
      "execution_count": null,
      "outputs": []
    },
    {
      "cell_type": "code",
      "source": [
        "# Create a new Google Spreadsheets\n",
        "sh = gc.create('example') # Thay bằng tên spreadsheet của các bạn "
      ],
      "metadata": {
        "id": "9O16i_ZOW62N"
      },
      "execution_count": null,
      "outputs": []
    },
    {
      "cell_type": "code",
      "source": [
        "import pandas as pd\n",
        "import matplotlib.pyplot as plt\n",
        "import seaborn as sns\n",
        "df_players = pd.read_csv('/content/gdrive/MyDrive/NBA_dataset/players.csv')\n",
        "df_seasons = pd.read_csv('/content/gdrive/MyDrive/NBA_dataset/seasons.csv')\n",
        "df_win = pd.read_csv('/content/gdrive/MyDrive/NBA_dataset/Franchise_Win_Totals.csv')\n",
        "df_definition = pd.read_csv('/content/gdrive/MyDrive/NBA_dataset/keyword_definitions.csv',encoding = 'unicode_escape')"
      ],
      "metadata": {
        "id": "DULt31RvRklF"
      },
      "execution_count": null,
      "outputs": []
    },
    {
      "cell_type": "code",
      "source": [
        "sns.lineplot(\n",
        "    data=df_players.groupby(['year_start'])['year_last'].mean().reset_index(), \n",
        "    x=\"year_start\", y=\"year_last\")\n",
        "\n",
        "plt.axhline(df_players['year_last'].mean(), color='wheat', linestyle='--')"
      ],
      "metadata": {
        "colab": {
          "base_uri": "https://localhost:8080/",
          "height": 298
        },
        "id": "oSqRGtlMw_nk",
        "outputId": "2e98bd4b-f0dc-43f5-fa3a-e6ad9e58c016"
      },
      "execution_count": null,
      "outputs": [
        {
          "output_type": "execute_result",
          "data": {
            "text/plain": [
              "<matplotlib.lines.Line2D at 0x7f114c087710>"
            ]
          },
          "metadata": {},
          "execution_count": 5
        },
        {
          "output_type": "display_data",
          "data": {
            "text/plain": [
              "<Figure size 432x288 with 1 Axes>"
            ],
            "image/png": "[encoded data removed]"
          },
          "metadata": {
            "needs_background": "light"
          }
        }
      ]
    },
    {
      "cell_type": "code",
      "source": [
        "df_players[df_players['year_start'].isin(range(1980,2017))]['year_last'].describe()"
      ],
      "metadata": {
        "colab": {
          "base_uri": "https://localhost:8080/"
        },
        "id": "TdXukdyx2edM",
        "outputId": "272279d9-5484-447c-f079-3cb7be016de2"
      },
      "execution_count": null,
      "outputs": [
        {
          "output_type": "execute_result",
          "data": {
            "text/plain": [
              "count    2529.000000\n",
              "mean        6.116647\n",
              "std         4.755934\n",
              "min         1.000000\n",
              "25%         2.000000\n",
              "50%         5.000000\n",
              "75%        10.000000\n",
              "max        23.000000\n",
              "Name: year_last, dtype: float64"
            ]
          },
          "metadata": {},
          "execution_count": 18
        }
      ]
    },
    {
      "cell_type": "markdown",
      "source": [
        "# Clean data:\n",
        "1.   Only choose players that year_start from 1980 to 2017 => remove that players in df_seasons\n",
        "2.   Remove players that isnull in df_player => remove that players in df_seasons\n",
        "\n"
      ],
      "metadata": {
        "id": "NcQtXJa02CNi"
      }
    },
    {
      "cell_type": "code",
      "source": [
        "df_players['year_last'] = df_players['year_end'] - df_players['year_start'] + 1\n",
        "#Divide into 2 groups: Group1(players only play less or equal 3 years) and Group2(above 3 years)\n",
        "def type(cell):\n",
        "  if cell <= 3: return 1\n",
        "  else: return 2\n",
        "df_players['group'] = df_players['year_last'].apply(type)"
      ],
      "metadata": {
        "id": "yU4nAkpT8Pvd"
      },
      "execution_count": null,
      "outputs": []
    },
    {
      "cell_type": "code",
      "source": [
        "#calculate players' age when they were drafted and retired\n",
        "df_players['birth_date'] = pd.to_datetime(df_players['birth_date']).dt.year\n",
        "df_players['Age_draft'] =  df_players['year_start'] - df_players['birth_date'] \n",
        "df_players['Age_retired'] = df_players['year_end'] - df_players['birth_date']\n",
        "\n",
        "df_seasons['birth_date'] = df_seasons['Year'] - df_seasons['Age']-1\n"
      ],
      "metadata": {
        "id": "YLjgihqCkMIH"
      },
      "execution_count": null,
      "outputs": []
    },
    {
      "cell_type": "code",
      "source": [
        "#Create playerID to avoid duplicate players' name\n",
        "df_players['playerID'] = df_players['name'] + '-' + df_players['birth_date'].astype('string')\n",
        "df_seasons['playerID'] = df_seasons['Player'] + '-' + df_seasons['birth_date'].astype('string')"
      ],
      "metadata": {
        "id": "j_qzQP5CSDHh"
      },
      "execution_count": null,
      "outputs": []
    },
    {
      "cell_type": "code",
      "source": [
        "#Select players that started to play since 1980\n",
        "df_players = df_players[df_players['year_start'].isin(range(1980,2018))]\n",
        "df_seasons = df_seasons[(df_seasons['playerID'].isin(df_players['playerID']))&(df_seasons['Year']>=1980)]"
      ],
      "metadata": {
        "id": "pPzsyDMP2BQX"
      },
      "execution_count": null,
      "outputs": []
    },
    {
      "cell_type": "code",
      "source": [
        "#change height from feet-inch to cm\n",
        "df_players['heightincm'] = df_players['height'].str.split('-')\n",
        "def fttocm(row):\n",
        "  return int(row['heightincm'][0])*30.48 + int(row['heightincm'][1])*2.54 \n",
        "df_players['height'] = df_players.apply(fttocm, axis = 1)\n",
        "df_players.drop(columns='heightincm',inplace=True)"
      ],
      "metadata": {
        "id": "yPkvFZDogOzX"
      },
      "execution_count": null,
      "outputs": []
    },
    {
      "cell_type": "code",
      "source": [
        "#Merge group and year_start\n",
        "df_seasons = pd.merge(df_seasons, df_players[['playerID','group','position','year_start']], how ='left', on ='playerID')"
      ],
      "metadata": {
        "id": "P4gZJvaaW7Dx"
      },
      "execution_count": null,
      "outputs": []
    },
    {
      "cell_type": "code",
      "source": [
        "df_seasons['year_play'] = df_seasons['Year'] - df_seasons['year_start'] + 1\n",
        "df_players[['year_last', 'Age_draft', 'Age_retired', 'height', 'weight']].corr().style.background_gradient(cmap='Blues')"
      ],
      "metadata": {
        "id": "gX7W522PeddR",
        "colab": {
          "base_uri": "https://localhost:8080/",
          "height": 206
        },
        "outputId": "e8b3557b-5cea-4ee1-9173-423e98e76487"
      },
      "execution_count": null,
      "outputs": [
        {
          "output_type": "execute_result",
          "data": {
            "text/plain": [
              "<pandas.io.formats.style.Styler at 0x7f3298164e10>"
            ],
            "text/html": [
              "<style type=\"text/css\">\n",
              "#T_e2024_row0_col0, #T_e2024_row1_col1, #T_e2024_row2_col2, #T_e2024_row3_col3, #T_e2024_row4_col4 {\n",
              "  background-color: #08306b;\n",
              "  color: #f1f1f1;\n",
              "}\n",
              "#T_e2024_row0_col1, #T_e2024_row1_col0, #T_e2024_row1_col3, #T_e2024_row1_col4, #T_e2024_row4_col2 {\n",
              "  background-color: #f7fbff;\n",
              "  color: #000000;\n",
              "}\n",
              "#T_e2024_row0_col2 {\n",
              "  background-color: #08468b;\n",
              "  color: #f1f1f1;\n",
              "}\n",
              "#T_e2024_row0_col3, #T_e2024_row0_col4 {\n",
              "  background-color: #ebf3fb;\n",
              "  color: #000000;\n",
              "}\n",
              "#T_e2024_row1_col2 {\n",
              "  background-color: #e1edf8;\n",
              "  color: #000000;\n",
              "}\n",
              "#T_e2024_row2_col0 {\n",
              "  background-color: #084184;\n",
              "  color: #f1f1f1;\n",
              "}\n",
              "#T_e2024_row2_col1 {\n",
              "  background-color: #b2d2e8;\n",
              "  color: #000000;\n",
              "}\n",
              "#T_e2024_row2_col3, #T_e2024_row2_col4 {\n",
              "  background-color: #eef5fc;\n",
              "  color: #000000;\n",
              "}\n",
              "#T_e2024_row3_col0 {\n",
              "  background-color: #c7dbef;\n",
              "  color: #000000;\n",
              "}\n",
              "#T_e2024_row3_col1 {\n",
              "  background-color: #d0e2f2;\n",
              "  color: #000000;\n",
              "}\n",
              "#T_e2024_row3_col2 {\n",
              "  background-color: #f5fafe;\n",
              "  color: #000000;\n",
              "}\n",
              "#T_e2024_row3_col4, #T_e2024_row4_col3 {\n",
              "  background-color: #135fa7;\n",
              "  color: #f1f1f1;\n",
              "}\n",
              "#T_e2024_row4_col0 {\n",
              "  background-color: #c8dcf0;\n",
              "  color: #000000;\n",
              "}\n",
              "#T_e2024_row4_col1 {\n",
              "  background-color: #d1e2f3;\n",
              "  color: #000000;\n",
              "}\n",
              "</style>\n",
              "<table id=\"T_e2024_\" class=\"dataframe\">\n",
              "  <thead>\n",
              "    <tr>\n",
              "      <th class=\"blank level0\" >&nbsp;</th>\n",
              "      <th class=\"col_heading level0 col0\" >year_last</th>\n",
              "      <th class=\"col_heading level0 col1\" >Age_draft</th>\n",
              "      <th class=\"col_heading level0 col2\" >Age_retired</th>\n",
              "      <th class=\"col_heading level0 col3\" >height</th>\n",
              "      <th class=\"col_heading level0 col4\" >weight</th>\n",
              "    </tr>\n",
              "  </thead>\n",
              "  <tbody>\n",
              "    <tr>\n",
              "      <th id=\"T_e2024_level0_row0\" class=\"row_heading level0 row0\" >year_last</th>\n",
              "      <td id=\"T_e2024_row0_col0\" class=\"data row0 col0\" >1.000000</td>\n",
              "      <td id=\"T_e2024_row0_col1\" class=\"data row0 col1\" >-0.293044</td>\n",
              "      <td id=\"T_e2024_row0_col2\" class=\"data row0 col2\" >0.917511</td>\n",
              "      <td id=\"T_e2024_row0_col3\" class=\"data row0 col3\" >0.025527</td>\n",
              "      <td id=\"T_e2024_row0_col4\" class=\"data row0 col4\" >0.019042</td>\n",
              "    </tr>\n",
              "    <tr>\n",
              "      <th id=\"T_e2024_level0_row1\" class=\"row_heading level0 row1\" >Age_draft</th>\n",
              "      <td id=\"T_e2024_row1_col0\" class=\"data row1 col0\" >-0.293044</td>\n",
              "      <td id=\"T_e2024_row1_col1\" class=\"data row1 col1\" >1.000000</td>\n",
              "      <td id=\"T_e2024_row1_col2\" class=\"data row1 col2\" >0.111379</td>\n",
              "      <td id=\"T_e2024_row1_col3\" class=\"data row1 col3\" >-0.038048</td>\n",
              "      <td id=\"T_e2024_row1_col4\" class=\"data row1 col4\" >-0.043576</td>\n",
              "    </tr>\n",
              "    <tr>\n",
              "      <th id=\"T_e2024_level0_row2\" class=\"row_heading level0 row2\" >Age_retired</th>\n",
              "      <td id=\"T_e2024_row2_col0\" class=\"data row2 col0\" >0.917511</td>\n",
              "      <td id=\"T_e2024_row2_col1\" class=\"data row2 col1\" >0.111379</td>\n",
              "      <td id=\"T_e2024_row2_col2\" class=\"data row2 col2\" >1.000000</td>\n",
              "      <td id=\"T_e2024_row2_col3\" class=\"data row2 col3\" >0.010706</td>\n",
              "      <td id=\"T_e2024_row2_col4\" class=\"data row2 col4\" >0.001666</td>\n",
              "    </tr>\n",
              "    <tr>\n",
              "      <th id=\"T_e2024_level0_row3\" class=\"row_heading level0 row3\" >height</th>\n",
              "      <td id=\"T_e2024_row3_col0\" class=\"data row3 col0\" >0.025527</td>\n",
              "      <td id=\"T_e2024_row3_col1\" class=\"data row3 col1\" >-0.038048</td>\n",
              "      <td id=\"T_e2024_row3_col2\" class=\"data row3 col2\" >0.010706</td>\n",
              "      <td id=\"T_e2024_row3_col3\" class=\"data row3 col3\" >1.000000</td>\n",
              "      <td id=\"T_e2024_row3_col4\" class=\"data row3 col4\" >0.812143</td>\n",
              "    </tr>\n",
              "    <tr>\n",
              "      <th id=\"T_e2024_level0_row4\" class=\"row_heading level0 row4\" >weight</th>\n",
              "      <td id=\"T_e2024_row4_col0\" class=\"data row4 col0\" >0.019042</td>\n",
              "      <td id=\"T_e2024_row4_col1\" class=\"data row4 col1\" >-0.043576</td>\n",
              "      <td id=\"T_e2024_row4_col2\" class=\"data row4 col2\" >0.001666</td>\n",
              "      <td id=\"T_e2024_row4_col3\" class=\"data row4 col3\" >0.812143</td>\n",
              "      <td id=\"T_e2024_row4_col4\" class=\"data row4 col4\" >1.000000</td>\n",
              "    </tr>\n",
              "  </tbody>\n",
              "</table>\n"
            ]
          },
          "metadata": {},
          "execution_count": 12
        }
      ]
    },
    {
      "cell_type": "code",
      "source": [
        "df_seasons.corr().style.background_gradient(cmap='Blues')"
      ],
      "metadata": {
        "id": "Sciit_aprmkO"
      },
      "execution_count": null,
      "outputs": []
    },
    {
      "cell_type": "code",
      "source": [
        "df_seasons.sample(5)"
      ],
      "metadata": {
        "colab": {
          "base_uri": "https://localhost:8080/",
          "height": 235
        },
        "id": "B9xPiRs2EqNV",
        "outputId": "7c735349-28a2-474e-c31a-7274f5c0146f"
      },
      "execution_count": null,
      "outputs": [
        {
          "output_type": "execute_result",
          "data": {
            "text/plain": [
              "       Year         Player Pos   Age   Tm   G    GS      MP   PER    TS%  ...  \\\n",
              "4536   1996      Matt Fish   C  26.0  DEN  16   0.0   117.0  14.9  0.590  ...   \n",
              "12341  2011     Nick Young  SG  25.0  WAS  64  40.0  2034.0  14.5  0.538  ...   \n",
              "8899   2005    Josh Howard  SF  24.0  DAL  76  76.0  2446.0  15.8  0.535  ...   \n",
              "4477   1996  Doug Christie  SF  25.0  TOT  55  17.0  1036.0  14.0  0.549  ...   \n",
              "13584  2014  Marcin Gortat   C  29.0  WAS  81  80.0  2655.0  17.6  0.568  ...   \n",
              "\n",
              "         BLK    TOV   PF   PTS  birth_date              playerID  group  \\\n",
              "4536     6.0    3.0   16    40      1969.0      Matt Fish-1969.0      1   \n",
              "12341   17.0   90.0  144  1115      1985.0     Nick Young-1985.0      2   \n",
              "8899    49.0  122.0  211   958      1980.0    Josh Howard-1980.0      2   \n",
              "4477    19.0   95.0  141   415      1970.0  Doug Christie-1970.0      2   \n",
              "13584  121.0  126.0  201  1068      1984.0  Marcin Gortat-1984.0      2   \n",
              "\n",
              "       position  year_start  year_play  \n",
              "4536          C        1995          2  \n",
              "12341       G-F        2008          4  \n",
              "8899        F-G        2004          2  \n",
              "4477        G-F        1993          4  \n",
              "13584       C-F        2008          7  \n",
              "\n",
              "[5 rows x 56 columns]"
            ],
            "text/html": [
              "\n",
              "  <div id=\"df-32ed4c41-202f-4abf-94d1-5af3dc6827b7\">\n",
              "    <div class=\"colab-df-container\">\n",
              "      <div>\n",
              "<style scoped>\n",
              "    .dataframe tbody tr th:only-of-type {\n",
              "        vertical-align: middle;\n",
              "    }\n",
              "\n",
              "    .dataframe tbody tr th {\n",
              "        vertical-align: top;\n",
              "    }\n",
              "\n",
              "    .dataframe thead th {\n",
              "        text-align: right;\n",
              "    }\n",
              "</style>\n",
              "<table border=\"1\" class=\"dataframe\">\n",
              "  <thead>\n",
              "    <tr style=\"text-align: right;\">\n",
              "      <th></th>\n",
              "      <th>Year</th>\n",
              "      <th>Player</th>\n",
              "      <th>Pos</th>\n",
              "      <th>Age</th>\n",
              "      <th>Tm</th>\n",
              "      <th>G</th>\n",
              "      <th>GS</th>\n",
              "      <th>MP</th>\n",
              "      <th>PER</th>\n",
              "      <th>TS%</th>\n",
              "      <th>...</th>\n",
              "      <th>BLK</th>\n",
              "      <th>TOV</th>\n",
              "      <th>PF</th>\n",
              "      <th>PTS</th>\n",
              "      <th>birth_date</th>\n",
              "      <th>playerID</th>\n",
              "      <th>group</th>\n",
              "      <th>position</th>\n",
              "      <th>year_start</th>\n",
              "      <th>year_play</th>\n",
              "    </tr>\n",
              "  </thead>\n",
              "  <tbody>\n",
              "    <tr>\n",
              "      <th>4536</th>\n",
              "      <td>1996</td>\n",
              "      <td>Matt Fish</td>\n",
              "      <td>C</td>\n",
              "      <td>26.0</td>\n",
              "      <td>DEN</td>\n",
              "      <td>16</td>\n",
              "      <td>0.0</td>\n",
              "      <td>117.0</td>\n",
              "      <td>14.9</td>\n",
              "      <td>0.590</td>\n",
              "      <td>...</td>\n",
              "      <td>6.0</td>\n",
              "      <td>3.0</td>\n",
              "      <td>16</td>\n",
              "      <td>40</td>\n",
              "      <td>1969.0</td>\n",
              "      <td>Matt Fish-1969.0</td>\n",
              "      <td>1</td>\n",
              "      <td>C</td>\n",
              "      <td>1995</td>\n",
              "      <td>2</td>\n",
              "    </tr>\n",
              "    <tr>\n",
              "      <th>12341</th>\n",
              "      <td>2011</td>\n",
              "      <td>Nick Young</td>\n",
              "      <td>SG</td>\n",
              "      <td>25.0</td>\n",
              "      <td>WAS</td>\n",
              "      <td>64</td>\n",
              "      <td>40.0</td>\n",
              "      <td>2034.0</td>\n",
              "      <td>14.5</td>\n",
              "      <td>0.538</td>\n",
              "      <td>...</td>\n",
              "      <td>17.0</td>\n",
              "      <td>90.0</td>\n",
              "      <td>144</td>\n",
              "      <td>1115</td>\n",
              "      <td>1985.0</td>\n",
              "      <td>Nick Young-1985.0</td>\n",
              "      <td>2</td>\n",
              "      <td>G-F</td>\n",
              "      <td>2008</td>\n",
              "      <td>4</td>\n",
              "    </tr>\n",
              "    <tr>\n",
              "      <th>8899</th>\n",
              "      <td>2005</td>\n",
              "      <td>Josh Howard</td>\n",
              "      <td>SF</td>\n",
              "      <td>24.0</td>\n",
              "      <td>DAL</td>\n",
              "      <td>76</td>\n",
              "      <td>76.0</td>\n",
              "      <td>2446.0</td>\n",
              "      <td>15.8</td>\n",
              "      <td>0.535</td>\n",
              "      <td>...</td>\n",
              "      <td>49.0</td>\n",
              "      <td>122.0</td>\n",
              "      <td>211</td>\n",
              "      <td>958</td>\n",
              "      <td>1980.0</td>\n",
              "      <td>Josh Howard-1980.0</td>\n",
              "      <td>2</td>\n",
              "      <td>F-G</td>\n",
              "      <td>2004</td>\n",
              "      <td>2</td>\n",
              "    </tr>\n",
              "    <tr>\n",
              "      <th>4477</th>\n",
              "      <td>1996</td>\n",
              "      <td>Doug Christie</td>\n",
              "      <td>SF</td>\n",
              "      <td>25.0</td>\n",
              "      <td>TOT</td>\n",
              "      <td>55</td>\n",
              "      <td>17.0</td>\n",
              "      <td>1036.0</td>\n",
              "      <td>14.0</td>\n",
              "      <td>0.549</td>\n",
              "      <td>...</td>\n",
              "      <td>19.0</td>\n",
              "      <td>95.0</td>\n",
              "      <td>141</td>\n",
              "      <td>415</td>\n",
              "      <td>1970.0</td>\n",
              "      <td>Doug Christie-1970.0</td>\n",
              "      <td>2</td>\n",
              "      <td>G-F</td>\n",
              "      <td>1993</td>\n",
              "      <td>4</td>\n",
              "    </tr>\n",
              "    <tr>\n",
              "      <th>13584</th>\n",
              "      <td>2014</td>\n",
              "      <td>Marcin Gortat</td>\n",
              "      <td>C</td>\n",
              "      <td>29.0</td>\n",
              "      <td>WAS</td>\n",
              "      <td>81</td>\n",
              "      <td>80.0</td>\n",
              "      <td>2655.0</td>\n",
              "      <td>17.6</td>\n",
              "      <td>0.568</td>\n",
              "      <td>...</td>\n",
              "      <td>121.0</td>\n",
              "      <td>126.0</td>\n",
              "      <td>201</td>\n",
              "      <td>1068</td>\n",
              "      <td>1984.0</td>\n",
              "      <td>Marcin Gortat-1984.0</td>\n",
              "      <td>2</td>\n",
              "      <td>C-F</td>\n",
              "      <td>2008</td>\n",
              "      <td>7</td>\n",
              "    </tr>\n",
              "  </tbody>\n",
              "</table>\n",
              "<p>5 rows × 56 columns</p>\n",
              "</div>\n",
              "      <button class=\"colab-df-convert\" onclick=\"convertToInteractive('df-32ed4c41-202f-4abf-94d1-5af3dc6827b7')\"\n",
              "              title=\"Convert this dataframe to an interactive table.\"\n",
              "              style=\"display:none;\">\n",
              "        \n",
              "  <svg xmlns=\"http://www.w3.org/2000/svg\" height=\"24px\"viewBox=\"0 0 24 24\"\n",
              "       width=\"24px\">\n",
              "    <path d=\"M0 0h24v24H0V0z\" fill=\"none\"/>\n",
              "    <path d=\"M18.56 5.44l.94 2.06.94-2.06 2.06-.94-2.06-.94-.94-2.06-.94 2.06-2.06.94zm-11 1L8.5 8.5l.94-2.06 2.06-.94-2.06-.94L8.5 2.5l-.94 2.06-2.06.94zm10 10l.94 2.06.94-2.06 2.06-.94-2.06-.94-.94-2.06-.94 2.06-2.06.94z\"/><path d=\"M17.41 7.96l-1.37-1.37c-.4-.4-.92-.59-1.43-.59-.52 0-1.04.2-1.43.59L10.3 9.45l-7.72 7.72c-.78.78-.78 2.05 0 2.83L4 21.41c.39.39.9.59 1.41.59.51 0 1.02-.2 1.41-.59l7.78-7.78 2.81-2.81c.8-.78.8-2.07 0-2.86zM5.41 20L4 18.59l7.72-7.72 1.47 1.35L5.41 20z\"/>\n",
              "  </svg>\n",
              "      </button>\n",
              "      \n",
              "  <style>\n",
              "    .colab-df-container {\n",
              "      display:flex;\n",
              "      flex-wrap:wrap;\n",
              "      gap: 12px;\n",
              "    }\n",
              "\n",
              "    .colab-df-convert {\n",
              "      background-color: #E8F0FE;\n",
              "      border: none;\n",
              "      border-radius: 50%;\n",
              "      cursor: pointer;\n",
              "      display: none;\n",
              "      fill: #1967D2;\n",
              "      height: 32px;\n",
              "      padding: 0 0 0 0;\n",
              "      width: 32px;\n",
              "    }\n",
              "\n",
              "    .colab-df-convert:hover {\n",
              "      background-color: #E2EBFA;\n",
              "      box-shadow: 0px 1px 2px rgba(60, 64, 67, 0.3), 0px 1px 3px 1px rgba(60, 64, 67, 0.15);\n",
              "      fill: #174EA6;\n",
              "    }\n",
              "\n",
              "    [theme=dark] .colab-df-convert {\n",
              "      background-color: #3B4455;\n",
              "      fill: #D2E3FC;\n",
              "    }\n",
              "\n",
              "    [theme=dark] .colab-df-convert:hover {\n",
              "      background-color: #434B5C;\n",
              "      box-shadow: 0px 1px 3px 1px rgba(0, 0, 0, 0.15);\n",
              "      filter: drop-shadow(0px 1px 2px rgba(0, 0, 0, 0.3));\n",
              "      fill: #FFFFFF;\n",
              "    }\n",
              "  </style>\n",
              "\n",
              "      <script>\n",
              "        const buttonEl =\n",
              "          document.querySelector('#df-32ed4c41-202f-4abf-94d1-5af3dc6827b7 button.colab-df-convert');\n",
              "        buttonEl.style.display =\n",
              "          google.colab.kernel.accessAllowed ? 'block' : 'none';\n",
              "\n",
              "        async function convertToInteractive(key) {\n",
              "          const element = document.querySelector('#df-32ed4c41-202f-4abf-94d1-5af3dc6827b7');\n",
              "          const dataTable =\n",
              "            await google.colab.kernel.invokeFunction('convertToInteractive',\n",
              "                                                     [key], {});\n",
              "          if (!dataTable) return;\n",
              "\n",
              "          const docLinkHtml = 'Like what you see? Visit the ' +\n",
              "            '<a target=\"_blank\" href=https://colab.research.google.com/notebooks/data_table.ipynb>data table notebook</a>'\n",
              "            + ' to learn more about interactive tables.';\n",
              "          element.innerHTML = '';\n",
              "          dataTable['output_type'] = 'display_data';\n",
              "          await google.colab.output.renderOutput(dataTable, element);\n",
              "          const docLink = document.createElement('div');\n",
              "          docLink.innerHTML = docLinkHtml;\n",
              "          element.appendChild(docLink);\n",
              "        }\n",
              "      </script>\n",
              "    </div>\n",
              "  </div>\n",
              "  "
            ]
          },
          "metadata": {},
          "execution_count": 13
        }
      ]
    },
    {
      "cell_type": "markdown",
      "source": [
        "# QUESTION 1: Differences between physical stats + age of draft\n",
        "\n",
        "\n",
        "*   physical\n",
        "*   age when draft\n",
        "*   position\n",
        "\n",
        "\n",
        "\n"
      ],
      "metadata": {
        "id": "I36yunOXzrcr"
      }
    },
    {
      "cell_type": "markdown",
      "source": [
        "## 1. Physical"
      ],
      "metadata": {
        "id": "eghDFCl3ptaJ"
      }
    },
    {
      "cell_type": "code",
      "source": [
        "plt.figure(figsize=(20, 5))\n",
        "plt.suptitle(\"Changes in Physical stats when drafted between 2 groups\", fontweight='bold')\n",
        "plt.subplot(121)\n",
        "sns.lineplot(\n",
        "    data=df_players.groupby(['year_start','group'])['height'].mean().reset_index(), \n",
        "    x=\"year_start\", y=\"height\",\n",
        "    hue=\"group\")\n",
        "plt.axhline(df_players[df_players['group']==1]['height'].mean(), color='wheat', linestyle='--')\n",
        "plt.axhline(df_players[df_players['group']==2]['height'].mean(), color='darkgoldenrod', linestyle='--')\n",
        "plt.xlim(1980, 2017)\n",
        "\n",
        "plt.subplot(122)\n",
        "sns.lineplot(\n",
        "    data=df_players.groupby(['year_start','group'])['weight'].mean().reset_index(), \n",
        "    x=\"year_start\", y=\"weight\",\n",
        "    hue=\"group\")\n",
        "plt.axhline(df_players[df_players['group']==1]['weight'].mean(), color='wheat', linestyle='--')\n",
        "plt.axhline(df_players[df_players['group']==2]['weight'].mean(), color='darkgoldenrod', linestyle='--')\n",
        "plt.xlim(1980, 2017)"
      ],
      "metadata": {
        "colab": {
          "base_uri": "https://localhost:8080/",
          "height": 387
        },
        "id": "Q4_DYa4Xc_QJ",
        "outputId": "72983759-7223-4028-eaa8-8ffcd07d94f5"
      },
      "execution_count": null,
      "outputs": [
        {
          "output_type": "execute_result",
          "data": {
            "text/plain": [
              "(1980.0, 2017.0)"
            ]
          },
          "metadata": {},
          "execution_count": 14
        },
        {
          "output_type": "display_data",
          "data": {
            "text/plain": [
              "<Figure size 1440x360 with 2 Axes>"
            ],
            "image/png": "[encoded data removed]"
          },
          "metadata": {
            "needs_background": "light"
          }
        }
      ]
    },
    {
      "cell_type": "markdown",
      "source": [
        "## 2. Age"
      ],
      "metadata": {
        "id": "hMs_JaQAp5jS"
      }
    },
    {
      "cell_type": "code",
      "source": [
        "plt.figure(figsize=(20, 5))\n",
        "plt.subplot(121)\n",
        "plt.title(\"Changes in Ages when drafted between 2 groups\", fontweight='bold')\n",
        "sns.lineplot(\n",
        "    data=df_players[df_players['year_start']<2016].groupby(['year_start','group'])['Age_draft'].mean().reset_index(), \n",
        "    x=\"year_start\", y=\"Age_draft\",\n",
        "    hue=\"group\")\n",
        "plt.axhline(df_players[(df_players['group']==1)&(df_players['year_start']<2016)]['Age_draft'].mean(), color='wheat', linestyle='--')\n",
        "plt.axhline(df_players[(df_players['group']==2)&(df_players['year_start']<2016)]['Age_draft'].mean(), color='darkgoldenrod', linestyle='--')\n",
        "plt.xlim(1980, 2017)\n",
        "\n",
        "\n",
        "\n",
        "plt.subplot(122)\n",
        "plt.title(\"Changes in Ages when retired between 2 groups\", fontweight='bold')\n",
        "sns.lineplot(\n",
        "    data=df_players.groupby(['year_end','group'])['Age_retired'].mean().reset_index(), \n",
        "    x=\"year_end\", y=\"Age_retired\",\n",
        "    hue=\"group\")\n",
        "plt.axhline(df_players[df_players['group']==1]['Age_retired'].mean(), color='wheat', linestyle='--')\n",
        "plt.axhline(df_players[df_players['group']==2]['Age_retired'].mean(), color='darkgoldenrod', linestyle='--')\n",
        "plt.xlim(1980, 2017)"
      ],
      "metadata": {
        "colab": {
          "base_uri": "https://localhost:8080/",
          "height": 368
        },
        "id": "WgzG-jlIp7Ao",
        "outputId": "d7e71b8d-2d51-4110-e395-69d75187ba24"
      },
      "execution_count": null,
      "outputs": [
        {
          "output_type": "execute_result",
          "data": {
            "text/plain": [
              "(1980.0, 2017.0)"
            ]
          },
          "metadata": {},
          "execution_count": 15
        },
        {
          "output_type": "display_data",
          "data": {
            "text/plain": [
              "<Figure size 1440x360 with 2 Axes>"
            ],
            "image/png": "[encoded data removed]"
          },
          "metadata": {
            "needs_background": "light"
          }
        }
      ]
    },
    {
      "cell_type": "markdown",
      "source": [
        "## 3. Position"
      ],
      "metadata": {
        "id": "y8w54ROTuEaO"
      }
    },
    {
      "cell_type": "code",
      "source": [
        "df_players['position'].unique()"
      ],
      "metadata": {
        "colab": {
          "base_uri": "https://localhost:8080/"
        },
        "id": "4zRA0dLvuG-N",
        "outputId": "986e9924-b7d4-49f2-cbf2-9955f5692a18"
      },
      "execution_count": null,
      "outputs": [
        {
          "output_type": "execute_result",
          "data": {
            "text/plain": [
              "array(['F-C', 'G', 'F', 'G-F', 'C', 'F-G', 'C-F'], dtype=object)"
            ]
          },
          "metadata": {},
          "execution_count": 14
        }
      ]
    },
    {
      "cell_type": "code",
      "source": [
        "dfleft = df_players[df_players['position'].str.contains(\"F\")].groupby('group')['position'].count()\n",
        "dfright = df_players[df_players['position'].str.contains(\"C\")].groupby('group')['position'].count()\n",
        "df1 = pd.merge(dfleft, dfright, how='inner', \n",
        "         left_index=True, right_index=True)\n",
        "dfright2 = df_players[df_players['position'].str.contains(\"G\")].groupby('group')['position'].count()\n",
        "df2 = pd.merge(df1, dfright2, how='inner', \n",
        "         left_index=True, right_index=True)\n",
        "df2.columns = ['F','C','G']\n",
        "df2 = df2.reset_index()\n",
        "df2 = df2.melt(id_vars='group', \n",
        "              value_vars=['F','C','G'],\n",
        "              var_name='position',\n",
        "              value_name='number_of_players')\n",
        "\n",
        "plt.figure(figsize=(17, 7))\n",
        "plt.subplot(131)\n",
        "sns.barplot(data=df2,\n",
        "            x = 'position',\n",
        "            y = 'number_of_players',\n",
        "            hue = 'group')\n",
        "\n",
        "plt.subplot(132)\n",
        "plt.pie(df2[df2['group']==1]['number_of_players'],labels = df2[df2['group']==1]['position'], autopct = '%0.0f%%')\n",
        "plt.title(\"Group 1\")\n",
        "\n",
        "plt.subplot(133)\n",
        "plt.pie(df2[df2['group']==2]['number_of_players'],labels = df2[df2['group']==1]['position'], autopct = '%0.0f%%')\n",
        "plt.title(\"Group 2\")"
      ],
      "metadata": {
        "colab": {
          "base_uri": "https://localhost:8080/",
          "height": 459
        },
        "id": "lxq7nf3U7QqF",
        "outputId": "a5659e26-27c9-4380-94b4-8bd6ec6b658c"
      },
      "execution_count": null,
      "outputs": [
        {
          "output_type": "execute_result",
          "data": {
            "text/plain": [
              "Text(0.5, 1.0, 'Group 2')"
            ]
          },
          "metadata": {},
          "execution_count": 16
        },
        {
          "output_type": "display_data",
          "data": {
            "text/plain": [
              "<Figure size 1224x504 with 3 Axes>"
            ],
            "image/png": "[encoded data removed]"
          },
          "metadata": {
            "needs_background": "light"
          }
        }
      ]
    },
    {
      "cell_type": "markdown",
      "source": [
        "# QUESTION 2: Skills-set range\n",
        "\n",
        "*   G - C - F (%, attempts - liệu attempt nhiều có tốt ko)\n",
        "*   PER\n",
        "*   Skill most effective\n",
        "\n"
      ],
      "metadata": {
        "id": "Lm_BZ0kv-NWP"
      }
    },
    {
      "cell_type": "code",
      "source": [
        "df_playerstats = pd.merge(df_seasons.groupby('playerID').mean().reset_index(), df_players[['playerID','position']], how ='left', on ='playerID')\n",
        "df_playerstats.corr().style.background_gradient(cmap='Blues')"
      ],
      "metadata": {
        "id": "koNz8707fBJ_"
      },
      "execution_count": null,
      "outputs": []
    },
    {
      "cell_type": "code",
      "source": [
        "df_skillsetall"
      ],
      "metadata": {
        "colab": {
          "base_uri": "https://localhost:8080/",
          "height": 269
        },
        "id": "mNGUx0BMcU2F",
        "outputId": "35749403-f005-4572-a3fd-0353595102fb"
      },
      "execution_count": null,
      "outputs": [
        {
          "output_type": "execute_result",
          "data": {
            "text/plain": [
              "           BLK%       AST%       TRB%       2P%       FT%       ORB%  \\\n",
              "group                                                                  \n",
              "1.0    1.539802   7.033697  11.461574       NaN       NaN        NaN   \n",
              "2.0    1.666857   8.941049  11.394030       NaN       NaN        NaN   \n",
              "1.0    2.699091        NaN        NaN  0.435995  0.587045  10.333029   \n",
              "2.0    2.960161        NaN        NaN  0.474961  0.654108   9.696416   \n",
              "1.0         NaN  16.473058        NaN       NaN       NaN        NaN   \n",
              "2.0         NaN  18.218032        NaN       NaN       NaN        NaN   \n",
              "\n",
              "            DRB%       3P%       TOV%      STL%  \n",
              "group                                            \n",
              "1.0          NaN       NaN        NaN       NaN  \n",
              "2.0          NaN       NaN        NaN       NaN  \n",
              "1.0    17.864890       NaN        NaN       NaN  \n",
              "2.0    19.225792       NaN        NaN       NaN  \n",
              "1.0          NaN  0.239091  17.243282  1.934558  \n",
              "2.0          NaN  0.292704  15.098037  1.916505  "
            ],
            "text/html": [
              "\n",
              "  <div id=\"df-9ba848c1-f397-4595-bf8e-765f7c0aca63\">\n",
              "    <div class=\"colab-df-container\">\n",
              "      <div>\n",
              "<style scoped>\n",
              "    .dataframe tbody tr th:only-of-type {\n",
              "        vertical-align: middle;\n",
              "    }\n",
              "\n",
              "    .dataframe tbody tr th {\n",
              "        vertical-align: top;\n",
              "    }\n",
              "\n",
              "    .dataframe thead th {\n",
              "        text-align: right;\n",
              "    }\n",
              "</style>\n",
              "<table border=\"1\" class=\"dataframe\">\n",
              "  <thead>\n",
              "    <tr style=\"text-align: right;\">\n",
              "      <th></th>\n",
              "      <th>BLK%</th>\n",
              "      <th>AST%</th>\n",
              "      <th>TRB%</th>\n",
              "      <th>2P%</th>\n",
              "      <th>FT%</th>\n",
              "      <th>ORB%</th>\n",
              "      <th>DRB%</th>\n",
              "      <th>3P%</th>\n",
              "      <th>TOV%</th>\n",
              "      <th>STL%</th>\n",
              "    </tr>\n",
              "    <tr>\n",
              "      <th>group</th>\n",
              "      <th></th>\n",
              "      <th></th>\n",
              "      <th></th>\n",
              "      <th></th>\n",
              "      <th></th>\n",
              "      <th></th>\n",
              "      <th></th>\n",
              "      <th></th>\n",
              "      <th></th>\n",
              "      <th></th>\n",
              "    </tr>\n",
              "  </thead>\n",
              "  <tbody>\n",
              "    <tr>\n",
              "      <th>1.0</th>\n",
              "      <td>1.539802</td>\n",
              "      <td>7.033697</td>\n",
              "      <td>11.461574</td>\n",
              "      <td>NaN</td>\n",
              "      <td>NaN</td>\n",
              "      <td>NaN</td>\n",
              "      <td>NaN</td>\n",
              "      <td>NaN</td>\n",
              "      <td>NaN</td>\n",
              "      <td>NaN</td>\n",
              "    </tr>\n",
              "    <tr>\n",
              "      <th>2.0</th>\n",
              "      <td>1.666857</td>\n",
              "      <td>8.941049</td>\n",
              "      <td>11.394030</td>\n",
              "      <td>NaN</td>\n",
              "      <td>NaN</td>\n",
              "      <td>NaN</td>\n",
              "      <td>NaN</td>\n",
              "      <td>NaN</td>\n",
              "      <td>NaN</td>\n",
              "      <td>NaN</td>\n",
              "    </tr>\n",
              "    <tr>\n",
              "      <th>1.0</th>\n",
              "      <td>2.699091</td>\n",
              "      <td>NaN</td>\n",
              "      <td>NaN</td>\n",
              "      <td>0.435995</td>\n",
              "      <td>0.587045</td>\n",
              "      <td>10.333029</td>\n",
              "      <td>17.864890</td>\n",
              "      <td>NaN</td>\n",
              "      <td>NaN</td>\n",
              "      <td>NaN</td>\n",
              "    </tr>\n",
              "    <tr>\n",
              "      <th>2.0</th>\n",
              "      <td>2.960161</td>\n",
              "      <td>NaN</td>\n",
              "      <td>NaN</td>\n",
              "      <td>0.474961</td>\n",
              "      <td>0.654108</td>\n",
              "      <td>9.696416</td>\n",
              "      <td>19.225792</td>\n",
              "      <td>NaN</td>\n",
              "      <td>NaN</td>\n",
              "      <td>NaN</td>\n",
              "    </tr>\n",
              "    <tr>\n",
              "      <th>1.0</th>\n",
              "      <td>NaN</td>\n",
              "      <td>16.473058</td>\n",
              "      <td>NaN</td>\n",
              "      <td>NaN</td>\n",
              "      <td>NaN</td>\n",
              "      <td>NaN</td>\n",
              "      <td>NaN</td>\n",
              "      <td>0.239091</td>\n",
              "      <td>17.243282</td>\n",
              "      <td>1.934558</td>\n",
              "    </tr>\n",
              "    <tr>\n",
              "      <th>2.0</th>\n",
              "      <td>NaN</td>\n",
              "      <td>18.218032</td>\n",
              "      <td>NaN</td>\n",
              "      <td>NaN</td>\n",
              "      <td>NaN</td>\n",
              "      <td>NaN</td>\n",
              "      <td>NaN</td>\n",
              "      <td>0.292704</td>\n",
              "      <td>15.098037</td>\n",
              "      <td>1.916505</td>\n",
              "    </tr>\n",
              "  </tbody>\n",
              "</table>\n",
              "</div>\n",
              "      <button class=\"colab-df-convert\" onclick=\"convertToInteractive('df-9ba848c1-f397-4595-bf8e-765f7c0aca63')\"\n",
              "              title=\"Convert this dataframe to an interactive table.\"\n",
              "              style=\"display:none;\">\n",
              "        \n",
              "  <svg xmlns=\"http://www.w3.org/2000/svg\" height=\"24px\"viewBox=\"0 0 24 24\"\n",
              "       width=\"24px\">\n",
              "    <path d=\"M0 0h24v24H0V0z\" fill=\"none\"/>\n",
              "    <path d=\"M18.56 5.44l.94 2.06.94-2.06 2.06-.94-2.06-.94-.94-2.06-.94 2.06-2.06.94zm-11 1L8.5 8.5l.94-2.06 2.06-.94-2.06-.94L8.5 2.5l-.94 2.06-2.06.94zm10 10l.94 2.06.94-2.06 2.06-.94-2.06-.94-.94-2.06-.94 2.06-2.06.94z\"/><path d=\"M17.41 7.96l-1.37-1.37c-.4-.4-.92-.59-1.43-.59-.52 0-1.04.2-1.43.59L10.3 9.45l-7.72 7.72c-.78.78-.78 2.05 0 2.83L4 21.41c.39.39.9.59 1.41.59.51 0 1.02-.2 1.41-.59l7.78-7.78 2.81-2.81c.8-.78.8-2.07 0-2.86zM5.41 20L4 18.59l7.72-7.72 1.47 1.35L5.41 20z\"/>\n",
              "  </svg>\n",
              "      </button>\n",
              "      \n",
              "  <style>\n",
              "    .colab-df-container {\n",
              "      display:flex;\n",
              "      flex-wrap:wrap;\n",
              "      gap: 12px;\n",
              "    }\n",
              "\n",
              "    .colab-df-convert {\n",
              "      background-color: #E8F0FE;\n",
              "      border: none;\n",
              "      border-radius: 50%;\n",
              "      cursor: pointer;\n",
              "      display: none;\n",
              "      fill: #1967D2;\n",
              "      height: 32px;\n",
              "      padding: 0 0 0 0;\n",
              "      width: 32px;\n",
              "    }\n",
              "\n",
              "    .colab-df-convert:hover {\n",
              "      background-color: #E2EBFA;\n",
              "      box-shadow: 0px 1px 2px rgba(60, 64, 67, 0.3), 0px 1px 3px 1px rgba(60, 64, 67, 0.15);\n",
              "      fill: #174EA6;\n",
              "    }\n",
              "\n",
              "    [theme=dark] .colab-df-convert {\n",
              "      background-color: #3B4455;\n",
              "      fill: #D2E3FC;\n",
              "    }\n",
              "\n",
              "    [theme=dark] .colab-df-convert:hover {\n",
              "      background-color: #434B5C;\n",
              "      box-shadow: 0px 1px 3px 1px rgba(0, 0, 0, 0.15);\n",
              "      filter: drop-shadow(0px 1px 2px rgba(0, 0, 0, 0.3));\n",
              "      fill: #FFFFFF;\n",
              "    }\n",
              "  </style>\n",
              "\n",
              "      <script>\n",
              "        const buttonEl =\n",
              "          document.querySelector('#df-9ba848c1-f397-4595-bf8e-765f7c0aca63 button.colab-df-convert');\n",
              "        buttonEl.style.display =\n",
              "          google.colab.kernel.accessAllowed ? 'block' : 'none';\n",
              "\n",
              "        async function convertToInteractive(key) {\n",
              "          const element = document.querySelector('#df-9ba848c1-f397-4595-bf8e-765f7c0aca63');\n",
              "          const dataTable =\n",
              "            await google.colab.kernel.invokeFunction('convertToInteractive',\n",
              "                                                     [key], {});\n",
              "          if (!dataTable) return;\n",
              "\n",
              "          const docLinkHtml = 'Like what you see? Visit the ' +\n",
              "            '<a target=\"_blank\" href=https://colab.research.google.com/notebooks/data_table.ipynb>data table notebook</a>'\n",
              "            + ' to learn more about interactive tables.';\n",
              "          element.innerHTML = '';\n",
              "          dataTable['output_type'] = 'display_data';\n",
              "          await google.colab.output.renderOutput(dataTable, element);\n",
              "          const docLink = document.createElement('div');\n",
              "          docLink.innerHTML = docLinkHtml;\n",
              "          element.appendChild(docLink);\n",
              "        }\n",
              "      </script>\n",
              "    </div>\n",
              "  </div>\n",
              "  "
            ]
          },
          "metadata": {},
          "execution_count": 54
        }
      ]
    },
    {
      "cell_type": "code",
      "source": [
        "print(df_playerstats[df_playerstats['position'].str.contains(\"F\")].groupby('group')['BLK%','AST%','TRB%'].mean())\n",
        "print(df_playerstats[df_playerstats['position'].str.contains(\"C\")].groupby('group')['2P%','FT%','ORB%','DRB%','BLK%'].mean())\n",
        "print(df_playerstats[df_playerstats['position'].str.contains(\"G\")].groupby('group')['AST%','3P%','TOV%','STL%'].mean())\n"
      ],
      "metadata": {
        "colab": {
          "base_uri": "https://localhost:8080/"
        },
        "id": "Y1PHD1GEKcnM",
        "outputId": "6c34513d-334d-4069-d5ab-4ca0704e0477"
      },
      "execution_count": null,
      "outputs": [
        {
          "output_type": "stream",
          "name": "stdout",
          "text": [
            "           BLK%      AST%       TRB%\n",
            "group                               \n",
            "1.0    1.539802  7.033697  11.461574\n",
            "2.0    1.666857  8.941049  11.394030\n",
            "            2P%       FT%       ORB%       DRB%      BLK%\n",
            "group                                                    \n",
            "1.0    0.435995  0.587045  10.333029  17.864890  2.699091\n",
            "2.0    0.474961  0.654108   9.696416  19.225792  2.960161\n",
            "            AST%       3P%       TOV%      STL%\n",
            "group                                          \n",
            "1.0    16.473058  0.239091  17.243282  1.934558\n",
            "2.0    18.218032  0.292704  15.098037  1.916505\n"
          ]
        },
        {
          "output_type": "stream",
          "name": "stderr",
          "text": [
            "/usr/local/lib/python3.7/dist-packages/ipykernel_launcher.py:1: FutureWarning: Indexing with multiple keys (implicitly converted to a tuple of keys) will be deprecated, use a list instead.\n",
            "  \"\"\"Entry point for launching an IPython kernel.\n",
            "/usr/local/lib/python3.7/dist-packages/ipykernel_launcher.py:2: FutureWarning: Indexing with multiple keys (implicitly converted to a tuple of keys) will be deprecated, use a list instead.\n",
            "  \n",
            "/usr/local/lib/python3.7/dist-packages/ipykernel_launcher.py:3: FutureWarning: Indexing with multiple keys (implicitly converted to a tuple of keys) will be deprecated, use a list instead.\n",
            "  This is separate from the ipykernel package so we can avoid doing imports until\n"
          ]
        }
      ]
    },
    {
      "cell_type": "code",
      "source": [
        "print(df_seasons[(df_seasons['position'].str.contains(\"F\"))&(df_seasons['year_play']==1)].groupby('group')['BLK%','AST%','TRB%'].mean())\n",
        "print(df_seasons[(df_seasons['position'].str.contains(\"C\"))&(df_seasons['year_play']==1)].groupby('group')['2P%','FT%','ORB%','DRB%','BLK%'].mean())\n",
        "print(df_seasons[(df_seasons['position'].str.contains(\"G\"))&(df_seasons['year_play']==1)].groupby('group')['AST%','3P%','TOV%','STL%'].mean())"
      ],
      "metadata": {
        "colab": {
          "base_uri": "https://localhost:8080/"
        },
        "id": "RzkPfVi5jb7b",
        "outputId": "1240cc78-078f-4a41-8d0d-a16bf42a1e91"
      },
      "execution_count": null,
      "outputs": [
        {
          "output_type": "stream",
          "name": "stdout",
          "text": [
            "           BLK%      AST%       TRB%\n",
            "group                               \n",
            "1      1.647386  6.879933  11.583811\n",
            "2      1.851613  8.118452  11.729677\n",
            "            2P%       FT%       ORB%       DRB%      BLK%\n",
            "group                                                    \n",
            "1      0.431668  0.579656  10.185903  17.352423  2.655507\n",
            "2      0.467685  0.636613  10.284091  18.371212  2.981566\n",
            "            AST%       3P%       TOV%      STL%\n",
            "group                                          \n",
            "1      16.608408  0.250307  17.447112  1.937746\n",
            "2      17.688152  0.259086  16.624681  2.032581\n"
          ]
        },
        {
          "output_type": "stream",
          "name": "stderr",
          "text": [
            "/usr/local/lib/python3.7/dist-packages/ipykernel_launcher.py:1: FutureWarning: Indexing with multiple keys (implicitly converted to a tuple of keys) will be deprecated, use a list instead.\n",
            "  \"\"\"Entry point for launching an IPython kernel.\n",
            "/usr/local/lib/python3.7/dist-packages/ipykernel_launcher.py:2: FutureWarning: Indexing with multiple keys (implicitly converted to a tuple of keys) will be deprecated, use a list instead.\n",
            "  \n",
            "/usr/local/lib/python3.7/dist-packages/ipykernel_launcher.py:3: FutureWarning: Indexing with multiple keys (implicitly converted to a tuple of keys) will be deprecated, use a list instead.\n",
            "  This is separate from the ipykernel package so we can avoid doing imports until\n"
          ]
        }
      ]
    },
    {
      "cell_type": "code",
      "source": [
        "print(df_seasons[(df_seasons['position'].str.contains(\"F\"))&(df_seasons['year_play']==2)].groupby('group')['BLK%','AST%','TRB%'].mean())\n",
        "print(df_seasons[(df_seasons['position'].str.contains(\"C\"))&(df_seasons['year_play']==2)].groupby('group')['2P%','FT%','ORB%','DRB%','BLK%'].mean())\n",
        "print(df_seasons[(df_seasons['position'].str.contains(\"G\"))&(df_seasons['year_play']==2)].groupby('group')['AST%','3P%','TOV%','STL%'].mean())"
      ],
      "metadata": {
        "colab": {
          "base_uri": "https://localhost:8080/"
        },
        "id": "6yahlOMTkSre",
        "outputId": "acab965c-7c5b-42b1-f47b-b45a8ef8f298"
      },
      "execution_count": null,
      "outputs": [
        {
          "output_type": "stream",
          "name": "stdout",
          "text": [
            "           BLK%      AST%       TRB%\n",
            "group                               \n",
            "1      1.460714  7.808929  10.403571\n",
            "2      1.802545  8.682952  11.607761\n",
            "            2P%       FT%       ORB%       DRB%      BLK%\n",
            "group                                                    \n",
            "1      0.443175  0.584131   9.410000  17.986667  2.801667\n",
            "2      0.483277  0.666474  10.025199  18.792838  3.229178\n",
            "            AST%       3P%       TOV%      STL%\n",
            "group                                          \n",
            "1      15.580345  0.235220  15.894483  2.008276\n",
            "2      18.439250  0.281936  15.320635  1.985859\n"
          ]
        },
        {
          "output_type": "stream",
          "name": "stderr",
          "text": [
            "/usr/local/lib/python3.7/dist-packages/ipykernel_launcher.py:1: FutureWarning: Indexing with multiple keys (implicitly converted to a tuple of keys) will be deprecated, use a list instead.\n",
            "  \"\"\"Entry point for launching an IPython kernel.\n",
            "/usr/local/lib/python3.7/dist-packages/ipykernel_launcher.py:2: FutureWarning: Indexing with multiple keys (implicitly converted to a tuple of keys) will be deprecated, use a list instead.\n",
            "  \n",
            "/usr/local/lib/python3.7/dist-packages/ipykernel_launcher.py:3: FutureWarning: Indexing with multiple keys (implicitly converted to a tuple of keys) will be deprecated, use a list instead.\n",
            "  This is separate from the ipykernel package so we can avoid doing imports until\n"
          ]
        }
      ]
    },
    {
      "cell_type": "code",
      "source": [
        "print(df_seasons[(df_seasons['position'].str.contains(\"F\"))&(df_seasons['year_play']==3)].groupby('group')['BLK%','AST%','TRB%'].mean())\n",
        "print(df_seasons[(df_seasons['position'].str.contains(\"C\"))&(df_seasons['year_play']==3)].groupby('group')['2P%','FT%','ORB%','DRB%','BLK%'].mean())\n",
        "print(df_seasons[(df_seasons['position'].str.contains(\"G\"))&(df_seasons['year_play']==3)].groupby('group')['AST%','3P%','TOV%','STL%'].mean())"
      ],
      "metadata": {
        "colab": {
          "base_uri": "https://localhost:8080/"
        },
        "id": "UuiOlYrekaAb",
        "outputId": "52fd4e4a-b439-439d-bb29-51efeae02131"
      },
      "execution_count": null,
      "outputs": [
        {
          "output_type": "stream",
          "name": "stdout",
          "text": [
            "           BLK%      AST%       TRB%\n",
            "group                               \n",
            "1      1.458333  7.276667  10.780000\n",
            "2      1.776185  9.071090  11.742536\n",
            "            2P%       FT%       ORB%       DRB%      BLK%\n",
            "group                                                    \n",
            "1      0.426510  0.653932  12.888235  22.649020  2.747059\n",
            "2      0.488653  0.655371  10.359277  19.660723  3.203373\n",
            "            AST%       3P%       TOV%      STL%\n",
            "group                                          \n",
            "1      16.866935  0.256561  17.760656  1.873387\n",
            "2      18.987761  0.300784  15.059388  1.982197\n"
          ]
        },
        {
          "output_type": "stream",
          "name": "stderr",
          "text": [
            "/usr/local/lib/python3.7/dist-packages/ipykernel_launcher.py:1: FutureWarning: Indexing with multiple keys (implicitly converted to a tuple of keys) will be deprecated, use a list instead.\n",
            "  \"\"\"Entry point for launching an IPython kernel.\n",
            "/usr/local/lib/python3.7/dist-packages/ipykernel_launcher.py:2: FutureWarning: Indexing with multiple keys (implicitly converted to a tuple of keys) will be deprecated, use a list instead.\n",
            "  \n",
            "/usr/local/lib/python3.7/dist-packages/ipykernel_launcher.py:3: FutureWarning: Indexing with multiple keys (implicitly converted to a tuple of keys) will be deprecated, use a list instead.\n",
            "  This is separate from the ipykernel package so we can avoid doing imports until\n"
          ]
        }
      ]
    },
    {
      "cell_type": "markdown",
      "source": [
        "**attempt**\n"
      ],
      "metadata": {
        "id": "HQ7f8iSQno0J"
      }
    },
    {
      "cell_type": "code",
      "source": [
        "print(df_playerstats[df_playerstats['position'].str.contains(\"F\")].groupby('group')['BLK','AST','TRB','MP','G'].mean())\n",
        "print(df_playerstats[df_playerstats['position'].str.contains(\"C\")].groupby('group')['2P','FT','ORB','DRB','BLK','2PA','FTA','MP','G'].mean())\n",
        "print(df_playerstats[df_playerstats['position'].str.contains(\"G\")].groupby('group')['AST','3P','TOV','STL','3PA','MP','G'].mean())"
      ],
      "metadata": {
        "colab": {
          "base_uri": "https://localhost:8080/"
        },
        "outputId": "4684b6d3-0208-4e1e-c351-6c610462ce6c",
        "id": "VINXfP0Entwf"
      },
      "execution_count": null,
      "outputs": [
        {
          "output_type": "stream",
          "name": "stdout",
          "text": [
            "             BLK        AST         TRB           MP          G\n",
            "group                                                          \n",
            "1.0     7.654942  18.276144   65.686510   335.520475  26.195189\n",
            "2.0    26.447741  73.441279  226.605016  1130.885162  50.603822\n",
            "               2P         FT        ORB         DRB        BLK         2PA  \\\n",
            "group                                                                        \n",
            "1.0     38.586398  19.628124  23.512152   48.017692  10.788944   78.642209   \n",
            "2.0    152.876965  79.132194  87.622053  182.531652  42.870979  306.282289   \n",
            "\n",
            "              FTA           MP          G  \n",
            "group                                      \n",
            "1.0     29.229231   284.340948  23.805292  \n",
            "2.0    114.835874  1033.595366  48.819379  \n",
            "              AST         3P        TOV        STL         3PA           MP  \\\n",
            "group                                                                         \n",
            "1.0     41.250642   9.134550  24.697292  13.646764   29.128832   353.623858   \n",
            "2.0    145.946012  36.850851  73.430459  43.896565  103.825720  1158.351849   \n",
            "\n",
            "              G  \n",
            "group            \n",
            "1.0    26.50336  \n",
            "2.0    49.74657  \n"
          ]
        },
        {
          "output_type": "stream",
          "name": "stderr",
          "text": [
            "/usr/local/lib/python3.7/dist-packages/ipykernel_launcher.py:1: FutureWarning: Indexing with multiple keys (implicitly converted to a tuple of keys) will be deprecated, use a list instead.\n",
            "  \"\"\"Entry point for launching an IPython kernel.\n",
            "/usr/local/lib/python3.7/dist-packages/ipykernel_launcher.py:2: FutureWarning: Indexing with multiple keys (implicitly converted to a tuple of keys) will be deprecated, use a list instead.\n",
            "  \n",
            "/usr/local/lib/python3.7/dist-packages/ipykernel_launcher.py:3: FutureWarning: Indexing with multiple keys (implicitly converted to a tuple of keys) will be deprecated, use a list instead.\n",
            "  This is separate from the ipykernel package so we can avoid doing imports until\n"
          ]
        }
      ]
    },
    {
      "cell_type": "code",
      "source": [
        "print(df_seasons[(df_seasons['position'].str.contains(\"F\"))&(df_seasons['year_play']==1)].groupby('group')['BLK','AST','TRB','MP','G'].mean())\n",
        "print(df_seasons[(df_seasons['position'].str.contains(\"C\"))&(df_seasons['year_play']==1)].groupby('group')['2P','FT','ORB','DRB','BLK','2PA','FTA','MP','G'].mean())\n",
        "print(df_seasons[(df_seasons['position'].str.contains(\"G\"))&(df_seasons['year_play']==1)].groupby('group')['AST','3P','TOV','STL','3PA','MP','G'].mean())"
      ],
      "metadata": {
        "colab": {
          "base_uri": "https://localhost:8080/"
        },
        "outputId": "0a571da1-bfa0-42bb-94d9-c7d4c9943e2a",
        "id": "ywhWQfFuntwh"
      },
      "execution_count": null,
      "outputs": [
        {
          "output_type": "stream",
          "name": "stdout",
          "text": [
            "             BLK        AST         TRB           MP          G\n",
            "group                                                          \n",
            "1       7.636364  17.792929   64.361953   333.099327  25.917508\n",
            "2      26.885161  60.625806  213.051613  1022.903226  52.969032\n",
            "               2P         FT        ORB         DRB        BLK         2PA  \\\n",
            "group                                                                        \n",
            "1       37.559471  18.330396  23.348018   46.784141  10.876652   78.162996   \n",
            "2      129.222222  68.053030  79.348485  146.752525  39.886364  263.219697   \n",
            "\n",
            "              FTA          MP          G  \n",
            "group                                     \n",
            "1       28.132159  283.674009  24.352423  \n",
            "2      102.363636  883.452020  49.020202  \n",
            "              AST         3P        TOV        STL        3PA          MP  \\\n",
            "group                                                                       \n",
            "1       42.910714   9.328571  26.780357  14.298214  29.616071  374.019643   \n",
            "2      122.194640  21.602257  69.873061  39.385049  65.016925  966.936530   \n",
            "\n",
            "               G  \n",
            "group             \n",
            "1      27.853571  \n",
            "2      50.160790  \n"
          ]
        },
        {
          "output_type": "stream",
          "name": "stderr",
          "text": [
            "/usr/local/lib/python3.7/dist-packages/ipykernel_launcher.py:1: FutureWarning: Indexing with multiple keys (implicitly converted to a tuple of keys) will be deprecated, use a list instead.\n",
            "  \"\"\"Entry point for launching an IPython kernel.\n",
            "/usr/local/lib/python3.7/dist-packages/ipykernel_launcher.py:2: FutureWarning: Indexing with multiple keys (implicitly converted to a tuple of keys) will be deprecated, use a list instead.\n",
            "  \n",
            "/usr/local/lib/python3.7/dist-packages/ipykernel_launcher.py:3: FutureWarning: Indexing with multiple keys (implicitly converted to a tuple of keys) will be deprecated, use a list instead.\n",
            "  This is separate from the ipykernel package so we can avoid doing imports until\n"
          ]
        }
      ]
    },
    {
      "cell_type": "code",
      "source": [
        "print(df_seasons[(df_seasons['position'].str.contains(\"F\"))&(df_seasons['year_play']==2)].groupby('group')['BLK','AST','TRB','MP','G'].mean())\n",
        "print(df_seasons[(df_seasons['position'].str.contains(\"C\"))&(df_seasons['year_play']==2)].groupby('group')['2P','FT','ORB','DRB','BLK','2PA','FTA','MP','G'].mean())\n",
        "print(df_seasons[(df_seasons['position'].str.contains(\"G\"))&(df_seasons['year_play']==2)].groupby('group')['AST','3P','TOV','STL','3PA','MP','G'].mean())"
      ],
      "metadata": {
        "colab": {
          "base_uri": "https://localhost:8080/"
        },
        "outputId": "72bd3cf4-d364-4703-8bb3-93a535b8e7d1",
        "id": "Y0vbhLaAntwi"
      },
      "execution_count": null,
      "outputs": [
        {
          "output_type": "stream",
          "name": "stdout",
          "text": [
            "             BLK        AST         TRB           MP          G\n",
            "group                                                          \n",
            "1       9.289286  22.046429   80.214286   403.507143  29.100000\n",
            "2      32.464377  80.208651  259.838422  1272.058524  55.936387\n",
            "               2P         FT         ORB         DRB        BLK         2PA  \\\n",
            "group                                                                         \n",
            "1       53.591667  27.408333   31.750000   65.158333  13.891667  107.025000   \n",
            "2      183.816976  95.981432  105.970822  207.323607  54.363395  367.880637   \n",
            "\n",
            "              FTA           MP          G  \n",
            "group                                      \n",
            "1       39.566667   382.958333  28.608333  \n",
            "2      140.779841  1208.328912  56.461538  \n",
            "              AST         3P        TOV        STL        3PA           MP  \\\n",
            "group                                                                        \n",
            "1       46.482759  10.875862  28.162069  16.044828  34.268966   415.555172   \n",
            "2      157.477633  31.682540  83.561328  49.815296  91.008658  1245.092352   \n",
            "\n",
            "               G  \n",
            "group             \n",
            "1      28.944828  \n",
            "2      54.102453  \n"
          ]
        },
        {
          "output_type": "stream",
          "name": "stderr",
          "text": [
            "/usr/local/lib/python3.7/dist-packages/ipykernel_launcher.py:1: FutureWarning: Indexing with multiple keys (implicitly converted to a tuple of keys) will be deprecated, use a list instead.\n",
            "  \"\"\"Entry point for launching an IPython kernel.\n",
            "/usr/local/lib/python3.7/dist-packages/ipykernel_launcher.py:2: FutureWarning: Indexing with multiple keys (implicitly converted to a tuple of keys) will be deprecated, use a list instead.\n",
            "  \n",
            "/usr/local/lib/python3.7/dist-packages/ipykernel_launcher.py:3: FutureWarning: Indexing with multiple keys (implicitly converted to a tuple of keys) will be deprecated, use a list instead.\n",
            "  This is separate from the ipykernel package so we can avoid doing imports until\n"
          ]
        }
      ]
    },
    {
      "cell_type": "code",
      "source": [
        "print(df_seasons[(df_seasons['position'].str.contains(\"F\"))&(df_seasons['year_play']==3)].groupby('group')['BLK','AST','TRB','MP','G'].mean())\n",
        "print(df_seasons[(df_seasons['position'].str.contains(\"C\"))&(df_seasons['year_play']==3)].groupby('group')['2P','FT','ORB','DRB','BLK','2PA','FTA','MP','G'].mean())\n",
        "print(df_seasons[(df_seasons['position'].str.contains(\"G\"))&(df_seasons['year_play']==3)].groupby('group')['AST','3P','TOV','STL','3PA','MP','G'].mean())"
      ],
      "metadata": {
        "colab": {
          "base_uri": "https://localhost:8080/"
        },
        "outputId": "89f00721-629d-4267-fb15-d52d541e865e",
        "id": "SOHL-y8rntwi"
      },
      "execution_count": null,
      "outputs": [
        {
          "output_type": "stream",
          "name": "stdout",
          "text": [
            "             BLK        AST        TRB           MP          G\n",
            "group                                                         \n",
            "1       5.816667  15.041667   50.55000   274.733333  23.275000\n",
            "2      32.576832  82.539007  260.98818  1278.635934  54.183215\n",
            "               2P         FT         ORB         DRB        BLK         2PA  \\\n",
            "group                                                                         \n",
            "1       22.196078  13.274510   15.941176   29.392157   7.215686   47.529412   \n",
            "2      179.821687  96.546988  103.824096  206.477108  52.884337  358.043373   \n",
            "\n",
            "              FTA           MP          G  \n",
            "group                                      \n",
            "1       20.725490   186.549020  17.882353  \n",
            "2      140.824096  1185.971084  53.419277  \n",
            "              AST         3P        TOV        STL         3PA           MP  \\\n",
            "group                                                                         \n",
            "1       33.306452   7.927419  18.040323  10.129032   24.500000   275.185484   \n",
            "2      173.019444  37.231944  86.397222  52.081944  106.023611  1329.619444   \n",
            "\n",
            "               G  \n",
            "group             \n",
            "1      22.024194  \n",
            "2      54.711111  \n"
          ]
        },
        {
          "output_type": "stream",
          "name": "stderr",
          "text": [
            "/usr/local/lib/python3.7/dist-packages/ipykernel_launcher.py:1: FutureWarning: Indexing with multiple keys (implicitly converted to a tuple of keys) will be deprecated, use a list instead.\n",
            "  \"\"\"Entry point for launching an IPython kernel.\n",
            "/usr/local/lib/python3.7/dist-packages/ipykernel_launcher.py:2: FutureWarning: Indexing with multiple keys (implicitly converted to a tuple of keys) will be deprecated, use a list instead.\n",
            "  \n",
            "/usr/local/lib/python3.7/dist-packages/ipykernel_launcher.py:3: FutureWarning: Indexing with multiple keys (implicitly converted to a tuple of keys) will be deprecated, use a list instead.\n",
            "  This is separate from the ipykernel package so we can avoid doing imports until\n"
          ]
        }
      ]
    },
    {
      "cell_type": "code",
      "source": [
        "df_seasons[df_seasons['year_play']<=3].groupby(['year_play','group'])['Age','G','MP','PER'].mean()"
      ],
      "metadata": {
        "colab": {
          "base_uri": "https://localhost:8080/",
          "height": 323
        },
        "id": "Kb6VUJUstO_d",
        "outputId": "d833b191-4de0-45e0-87a2-a2c82ded8a4b"
      },
      "execution_count": null,
      "outputs": [
        {
          "output_type": "stream",
          "name": "stderr",
          "text": [
            "/usr/local/lib/python3.7/dist-packages/ipykernel_launcher.py:1: FutureWarning: Indexing with multiple keys (implicitly converted to a tuple of keys) will be deprecated, use a list instead.\n",
            "  \"\"\"Entry point for launching an IPython kernel.\n"
          ]
        },
        {
          "output_type": "execute_result",
          "data": {
            "text/plain": [
              "                       Age          G           MP        PER\n",
              "year_play group                                              \n",
              "1         1      23.218548  25.724194   327.156452   8.684814\n",
              "          2      22.252889  50.439837   958.440517  11.507342\n",
              "2         1      23.903716  28.625000   391.859797   8.978378\n",
              "          2      23.222759  54.524138  1225.207586  12.531310\n",
              "3         1      24.848249  22.245136   272.346304   9.048638\n",
              "          2      24.164179  53.479559  1253.378326  13.279727"
            ],
            "text/html": [
              "\n",
              "  <div id=\"df-a95179c7-6534-49a9-9832-a7764c5eb834\">\n",
              "    <div class=\"colab-df-container\">\n",
              "      <div>\n",
              "<style scoped>\n",
              "    .dataframe tbody tr th:only-of-type {\n",
              "        vertical-align: middle;\n",
              "    }\n",
              "\n",
              "    .dataframe tbody tr th {\n",
              "        vertical-align: top;\n",
              "    }\n",
              "\n",
              "    .dataframe thead th {\n",
              "        text-align: right;\n",
              "    }\n",
              "</style>\n",
              "<table border=\"1\" class=\"dataframe\">\n",
              "  <thead>\n",
              "    <tr style=\"text-align: right;\">\n",
              "      <th></th>\n",
              "      <th></th>\n",
              "      <th>Age</th>\n",
              "      <th>G</th>\n",
              "      <th>MP</th>\n",
              "      <th>PER</th>\n",
              "    </tr>\n",
              "    <tr>\n",
              "      <th>year_play</th>\n",
              "      <th>group</th>\n",
              "      <th></th>\n",
              "      <th></th>\n",
              "      <th></th>\n",
              "      <th></th>\n",
              "    </tr>\n",
              "  </thead>\n",
              "  <tbody>\n",
              "    <tr>\n",
              "      <th rowspan=\"2\" valign=\"top\">1</th>\n",
              "      <th>1</th>\n",
              "      <td>23.218548</td>\n",
              "      <td>25.724194</td>\n",
              "      <td>327.156452</td>\n",
              "      <td>8.684814</td>\n",
              "    </tr>\n",
              "    <tr>\n",
              "      <th>2</th>\n",
              "      <td>22.252889</td>\n",
              "      <td>50.439837</td>\n",
              "      <td>958.440517</td>\n",
              "      <td>11.507342</td>\n",
              "    </tr>\n",
              "    <tr>\n",
              "      <th rowspan=\"2\" valign=\"top\">2</th>\n",
              "      <th>1</th>\n",
              "      <td>23.903716</td>\n",
              "      <td>28.625000</td>\n",
              "      <td>391.859797</td>\n",
              "      <td>8.978378</td>\n",
              "    </tr>\n",
              "    <tr>\n",
              "      <th>2</th>\n",
              "      <td>23.222759</td>\n",
              "      <td>54.524138</td>\n",
              "      <td>1225.207586</td>\n",
              "      <td>12.531310</td>\n",
              "    </tr>\n",
              "    <tr>\n",
              "      <th rowspan=\"2\" valign=\"top\">3</th>\n",
              "      <th>1</th>\n",
              "      <td>24.848249</td>\n",
              "      <td>22.245136</td>\n",
              "      <td>272.346304</td>\n",
              "      <td>9.048638</td>\n",
              "    </tr>\n",
              "    <tr>\n",
              "      <th>2</th>\n",
              "      <td>24.164179</td>\n",
              "      <td>53.479559</td>\n",
              "      <td>1253.378326</td>\n",
              "      <td>13.279727</td>\n",
              "    </tr>\n",
              "  </tbody>\n",
              "</table>\n",
              "</div>\n",
              "      <button class=\"colab-df-convert\" onclick=\"convertToInteractive('df-a95179c7-6534-49a9-9832-a7764c5eb834')\"\n",
              "              title=\"Convert this dataframe to an interactive table.\"\n",
              "              style=\"display:none;\">\n",
              "        \n",
              "  <svg xmlns=\"http://www.w3.org/2000/svg\" height=\"24px\"viewBox=\"0 0 24 24\"\n",
              "       width=\"24px\">\n",
              "    <path d=\"M0 0h24v24H0V0z\" fill=\"none\"/>\n",
              "    <path d=\"M18.56 5.44l.94 2.06.94-2.06 2.06-.94-2.06-.94-.94-2.06-.94 2.06-2.06.94zm-11 1L8.5 8.5l.94-2.06 2.06-.94-2.06-.94L8.5 2.5l-.94 2.06-2.06.94zm10 10l.94 2.06.94-2.06 2.06-.94-2.06-.94-.94-2.06-.94 2.06-2.06.94z\"/><path d=\"M17.41 7.96l-1.37-1.37c-.4-.4-.92-.59-1.43-.59-.52 0-1.04.2-1.43.59L10.3 9.45l-7.72 7.72c-.78.78-.78 2.05 0 2.83L4 21.41c.39.39.9.59 1.41.59.51 0 1.02-.2 1.41-.59l7.78-7.78 2.81-2.81c.8-.78.8-2.07 0-2.86zM5.41 20L4 18.59l7.72-7.72 1.47 1.35L5.41 20z\"/>\n",
              "  </svg>\n",
              "      </button>\n",
              "      \n",
              "  <style>\n",
              "    .colab-df-container {\n",
              "      display:flex;\n",
              "      flex-wrap:wrap;\n",
              "      gap: 12px;\n",
              "    }\n",
              "\n",
              "    .colab-df-convert {\n",
              "      background-color: #E8F0FE;\n",
              "      border: none;\n",
              "      border-radius: 50%;\n",
              "      cursor: pointer;\n",
              "      display: none;\n",
              "      fill: #1967D2;\n",
              "      height: 32px;\n",
              "      padding: 0 0 0 0;\n",
              "      width: 32px;\n",
              "    }\n",
              "\n",
              "    .colab-df-convert:hover {\n",
              "      background-color: #E2EBFA;\n",
              "      box-shadow: 0px 1px 2px rgba(60, 64, 67, 0.3), 0px 1px 3px 1px rgba(60, 64, 67, 0.15);\n",
              "      fill: #174EA6;\n",
              "    }\n",
              "\n",
              "    [theme=dark] .colab-df-convert {\n",
              "      background-color: #3B4455;\n",
              "      fill: #D2E3FC;\n",
              "    }\n",
              "\n",
              "    [theme=dark] .colab-df-convert:hover {\n",
              "      background-color: #434B5C;\n",
              "      box-shadow: 0px 1px 3px 1px rgba(0, 0, 0, 0.15);\n",
              "      filter: drop-shadow(0px 1px 2px rgba(0, 0, 0, 0.3));\n",
              "      fill: #FFFFFF;\n",
              "    }\n",
              "  </style>\n",
              "\n",
              "      <script>\n",
              "        const buttonEl =\n",
              "          document.querySelector('#df-a95179c7-6534-49a9-9832-a7764c5eb834 button.colab-df-convert');\n",
              "        buttonEl.style.display =\n",
              "          google.colab.kernel.accessAllowed ? 'block' : 'none';\n",
              "\n",
              "        async function convertToInteractive(key) {\n",
              "          const element = document.querySelector('#df-a95179c7-6534-49a9-9832-a7764c5eb834');\n",
              "          const dataTable =\n",
              "            await google.colab.kernel.invokeFunction('convertToInteractive',\n",
              "                                                     [key], {});\n",
              "          if (!dataTable) return;\n",
              "\n",
              "          const docLinkHtml = 'Like what you see? Visit the ' +\n",
              "            '<a target=\"_blank\" href=https://colab.research.google.com/notebooks/data_table.ipynb>data table notebook</a>'\n",
              "            + ' to learn more about interactive tables.';\n",
              "          element.innerHTML = '';\n",
              "          dataTable['output_type'] = 'display_data';\n",
              "          await google.colab.output.renderOutput(dataTable, element);\n",
              "          const docLink = document.createElement('div');\n",
              "          docLink.innerHTML = docLinkHtml;\n",
              "          element.appendChild(docLink);\n",
              "        }\n",
              "      </script>\n",
              "    </div>\n",
              "  </div>\n",
              "  "
            ]
          },
          "metadata": {},
          "execution_count": 26
        }
      ]
    },
    {
      "cell_type": "code",
      "source": [
        "print(df_playerstats[df_playerstats['position'].str.contains(\"F\")].groupby('group')['Age','G','MP','PER'].mean())\n",
        "print(df_playerstats[df_playerstats['position'].str.contains(\"C\")].groupby('group')['Age','G','MP','PER'].mean())\n",
        "print(df_playerstats[df_playerstats['position'].str.contains(\"G\")].groupby('group')['Age','G','MP','PER'].mean())"
      ],
      "metadata": {
        "colab": {
          "base_uri": "https://localhost:8080/"
        },
        "id": "pLDBkGOh6oBi",
        "outputId": "33386a95-4de1-4e26-d4f3-fe476eb2c8c4"
      },
      "execution_count": null,
      "outputs": [
        {
          "output_type": "stream",
          "name": "stdout",
          "text": [
            "             Age          G           MP        PER\n",
            "group                                              \n",
            "1.0    23.382523  26.195189   335.520475   9.131713\n",
            "2.0    26.254427  50.603822  1130.885162  12.345793\n",
            "             Age          G           MP        PER\n",
            "group                                              \n",
            "1.0    23.837235  23.805292   284.340948   9.076261\n",
            "2.0    26.380676  48.819379  1033.595366  12.372810\n",
            "             Age         G           MP        PER\n",
            "group                                             \n",
            "1.0    23.500402  26.50336   353.623858   8.100683\n",
            "2.0    26.199144  49.74657  1158.351849  11.903272\n"
          ]
        },
        {
          "output_type": "stream",
          "name": "stderr",
          "text": [
            "/usr/local/lib/python3.7/dist-packages/ipykernel_launcher.py:1: FutureWarning: Indexing with multiple keys (implicitly converted to a tuple of keys) will be deprecated, use a list instead.\n",
            "  \"\"\"Entry point for launching an IPython kernel.\n",
            "/usr/local/lib/python3.7/dist-packages/ipykernel_launcher.py:2: FutureWarning: Indexing with multiple keys (implicitly converted to a tuple of keys) will be deprecated, use a list instead.\n",
            "  \n",
            "/usr/local/lib/python3.7/dist-packages/ipykernel_launcher.py:3: FutureWarning: Indexing with multiple keys (implicitly converted to a tuple of keys) will be deprecated, use a list instead.\n",
            "  This is separate from the ipykernel package so we can avoid doing imports until\n"
          ]
        }
      ]
    },
    {
      "cell_type": "code",
      "source": [
        "df_wins = df_win.head(42).tail(39).reset_index().drop(columns = ['index','Rk'])"
      ],
      "metadata": {
        "id": "CJ9zpsGsAgpr"
      },
      "execution_count": null,
      "outputs": []
    },
    {
      "cell_type": "code",
      "source": [
        "df_wins[['Season','delete']] = df_wins['Season'].str.split('-', expand=True)\n",
        "df_wins.drop(columns = 'delete', inplace = True)"
      ],
      "metadata": {
        "id": "NY-0IPUiHThm"
      },
      "execution_count": null,
      "outputs": []
    },
    {
      "cell_type": "code",
      "source": [
        "df_wins = df_wins.melt(id_vars=df_wins.columns[:2], \n",
        "                       value_vars=df_wins.columns[2:],\n",
        "                       var_name='Tm',\n",
        "                       value_name='wins')"
      ],
      "metadata": {
        "id": "zM_aKGNxHdbx"
      },
      "execution_count": null,
      "outputs": []
    },
    {
      "cell_type": "code",
      "source": [
        "df_wins['ranking'] = df_wins.groupby('Season')['wins'].rank(method = 'dense', ascending=False)"
      ],
      "metadata": {
        "id": "dRmOJ-l8KWos"
      },
      "execution_count": null,
      "outputs": []
    },
    {
      "cell_type": "code",
      "source": [
        "df_wins['Season'] = df_wins['Season'].astype('int')"
      ],
      "metadata": {
        "id": "Ac_Ih1e2M_6l"
      },
      "execution_count": null,
      "outputs": []
    },
    {
      "cell_type": "code",
      "source": [
        "df_tmranking = pd.merge(df_seasons[df_seasons['year_play']<=3],df_wins,how ='left', left_on=['Year','Tm'], right_on=['Season','Tm'] )\n",
        "df_tmranking.sample(5)"
      ],
      "metadata": {
        "colab": {
          "base_uri": "https://localhost:8080/",
          "height": 235
        },
        "id": "1CrSHDZgLOVM",
        "outputId": "00e470f1-4fc0-4f7e-e42e-4acc32301c0d"
      },
      "execution_count": null,
      "outputs": [
        {
          "output_type": "execute_result",
          "data": {
            "text/plain": [
              "      Year        Player Pos   Age   Tm   G    GS      MP   PER    TS%  ...  \\\n",
              "4487  2007      Pape Sow   C  25.0  TOR   7   0.0    34.0  16.4  0.430  ...   \n",
              "1771  1992   Tate George  SG  23.0  NJN  70   2.0  1037.0  11.8  0.483  ...   \n",
              "2074  1994   Sam Cassell  PG  24.0  HOU  66   6.0  1122.0  13.1  0.506  ...   \n",
              "1310  1989    Craig Neal  PG  24.0  MIA  32   0.0   341.0   7.9  0.458  ...   \n",
              "1183  1988  Kenny Walker  SF  23.0  NYK  82  61.0  2139.0  12.3  0.512  ...   \n",
              "\n",
              "      birth_date             playerID  group  position  year_start  year_play  \\\n",
              "4487      1981.0      Pape Sow-1981.0      1         F        2005          3   \n",
              "1771      1968.0   Tate George-1968.0      2         G        1991          2   \n",
              "2074      1969.0   Sam Cassell-1969.0      2         G        1994          1   \n",
              "1310      1964.0    Craig Neal-1964.0      1         G        1989          1   \n",
              "1183      1964.0  Kenny Walker-1964.0      2         F        1987          2   \n",
              "\n",
              "      Season   Lg  wins  ranking  \n",
              "4487  2007.0  NBA  41.0     13.0  \n",
              "1771     NaN  NaN   NaN      NaN  \n",
              "2074  1994.0  NBA  47.0      9.0  \n",
              "1310  1989.0  NBA  18.0     20.0  \n",
              "1183  1988.0  NBA  52.0      4.0  \n",
              "\n",
              "[5 rows x 60 columns]"
            ],
            "text/html": [
              "\n",
              "  <div id=\"df-51945d05-2094-465b-9c48-2a6046affdc7\">\n",
              "    <div class=\"colab-df-container\">\n",
              "      <div>\n",
              "<style scoped>\n",
              "    .dataframe tbody tr th:only-of-type {\n",
              "        vertical-align: middle;\n",
              "    }\n",
              "\n",
              "    .dataframe tbody tr th {\n",
              "        vertical-align: top;\n",
              "    }\n",
              "\n",
              "    .dataframe thead th {\n",
              "        text-align: right;\n",
              "    }\n",
              "</style>\n",
              "<table border=\"1\" class=\"dataframe\">\n",
              "  <thead>\n",
              "    <tr style=\"text-align: right;\">\n",
              "      <th></th>\n",
              "      <th>Year</th>\n",
              "      <th>Player</th>\n",
              "      <th>Pos</th>\n",
              "      <th>Age</th>\n",
              "      <th>Tm</th>\n",
              "      <th>G</th>\n",
              "      <th>GS</th>\n",
              "      <th>MP</th>\n",
              "      <th>PER</th>\n",
              "      <th>TS%</th>\n",
              "      <th>...</th>\n",
              "      <th>birth_date</th>\n",
              "      <th>playerID</th>\n",
              "      <th>group</th>\n",
              "      <th>position</th>\n",
              "      <th>year_start</th>\n",
              "      <th>year_play</th>\n",
              "      <th>Season</th>\n",
              "      <th>Lg</th>\n",
              "      <th>wins</th>\n",
              "      <th>ranking</th>\n",
              "    </tr>\n",
              "  </thead>\n",
              "  <tbody>\n",
              "    <tr>\n",
              "      <th>4487</th>\n",
              "      <td>2007</td>\n",
              "      <td>Pape Sow</td>\n",
              "      <td>C</td>\n",
              "      <td>25.0</td>\n",
              "      <td>TOR</td>\n",
              "      <td>7</td>\n",
              "      <td>0.0</td>\n",
              "      <td>34.0</td>\n",
              "      <td>16.4</td>\n",
              "      <td>0.430</td>\n",
              "      <td>...</td>\n",
              "      <td>1981.0</td>\n",
              "      <td>Pape Sow-1981.0</td>\n",
              "      <td>1</td>\n",
              "      <td>F</td>\n",
              "      <td>2005</td>\n",
              "      <td>3</td>\n",
              "      <td>2007.0</td>\n",
              "      <td>NBA</td>\n",
              "      <td>41.0</td>\n",
              "      <td>13.0</td>\n",
              "    </tr>\n",
              "    <tr>\n",
              "      <th>1771</th>\n",
              "      <td>1992</td>\n",
              "      <td>Tate George</td>\n",
              "      <td>SG</td>\n",
              "      <td>23.0</td>\n",
              "      <td>NJN</td>\n",
              "      <td>70</td>\n",
              "      <td>2.0</td>\n",
              "      <td>1037.0</td>\n",
              "      <td>11.8</td>\n",
              "      <td>0.483</td>\n",
              "      <td>...</td>\n",
              "      <td>1968.0</td>\n",
              "      <td>Tate George-1968.0</td>\n",
              "      <td>2</td>\n",
              "      <td>G</td>\n",
              "      <td>1991</td>\n",
              "      <td>2</td>\n",
              "      <td>NaN</td>\n",
              "      <td>NaN</td>\n",
              "      <td>NaN</td>\n",
              "      <td>NaN</td>\n",
              "    </tr>\n",
              "    <tr>\n",
              "      <th>2074</th>\n",
              "      <td>1994</td>\n",
              "      <td>Sam Cassell</td>\n",
              "      <td>PG</td>\n",
              "      <td>24.0</td>\n",
              "      <td>HOU</td>\n",
              "      <td>66</td>\n",
              "      <td>6.0</td>\n",
              "      <td>1122.0</td>\n",
              "      <td>13.1</td>\n",
              "      <td>0.506</td>\n",
              "      <td>...</td>\n",
              "      <td>1969.0</td>\n",
              "      <td>Sam Cassell-1969.0</td>\n",
              "      <td>2</td>\n",
              "      <td>G</td>\n",
              "      <td>1994</td>\n",
              "      <td>1</td>\n",
              "      <td>1994.0</td>\n",
              "      <td>NBA</td>\n",
              "      <td>47.0</td>\n",
              "      <td>9.0</td>\n",
              "    </tr>\n",
              "    <tr>\n",
              "      <th>1310</th>\n",
              "      <td>1989</td>\n",
              "      <td>Craig Neal</td>\n",
              "      <td>PG</td>\n",
              "      <td>24.0</td>\n",
              "      <td>MIA</td>\n",
              "      <td>32</td>\n",
              "      <td>0.0</td>\n",
              "      <td>341.0</td>\n",
              "      <td>7.9</td>\n",
              "      <td>0.458</td>\n",
              "      <td>...</td>\n",
              "      <td>1964.0</td>\n",
              "      <td>Craig Neal-1964.0</td>\n",
              "      <td>1</td>\n",
              "      <td>G</td>\n",
              "      <td>1989</td>\n",
              "      <td>1</td>\n",
              "      <td>1989.0</td>\n",
              "      <td>NBA</td>\n",
              "      <td>18.0</td>\n",
              "      <td>20.0</td>\n",
              "    </tr>\n",
              "    <tr>\n",
              "      <th>1183</th>\n",
              "      <td>1988</td>\n",
              "      <td>Kenny Walker</td>\n",
              "      <td>SF</td>\n",
              "      <td>23.0</td>\n",
              "      <td>NYK</td>\n",
              "      <td>82</td>\n",
              "      <td>61.0</td>\n",
              "      <td>2139.0</td>\n",
              "      <td>12.3</td>\n",
              "      <td>0.512</td>\n",
              "      <td>...</td>\n",
              "      <td>1964.0</td>\n",
              "      <td>Kenny Walker-1964.0</td>\n",
              "      <td>2</td>\n",
              "      <td>F</td>\n",
              "      <td>1987</td>\n",
              "      <td>2</td>\n",
              "      <td>1988.0</td>\n",
              "      <td>NBA</td>\n",
              "      <td>52.0</td>\n",
              "      <td>4.0</td>\n",
              "    </tr>\n",
              "  </tbody>\n",
              "</table>\n",
              "<p>5 rows × 60 columns</p>\n",
              "</div>\n",
              "      <button class=\"colab-df-convert\" onclick=\"convertToInteractive('df-51945d05-2094-465b-9c48-2a6046affdc7')\"\n",
              "              title=\"Convert this dataframe to an interactive table.\"\n",
              "              style=\"display:none;\">\n",
              "        \n",
              "  <svg xmlns=\"http://www.w3.org/2000/svg\" height=\"24px\"viewBox=\"0 0 24 24\"\n",
              "       width=\"24px\">\n",
              "    <path d=\"M0 0h24v24H0V0z\" fill=\"none\"/>\n",
              "    <path d=\"M18.56 5.44l.94 2.06.94-2.06 2.06-.94-2.06-.94-.94-2.06-.94 2.06-2.06.94zm-11 1L8.5 8.5l.94-2.06 2.06-.94-2.06-.94L8.5 2.5l-.94 2.06-2.06.94zm10 10l.94 2.06.94-2.06 2.06-.94-2.06-.94-.94-2.06-.94 2.06-2.06.94z\"/><path d=\"M17.41 7.96l-1.37-1.37c-.4-.4-.92-.59-1.43-.59-.52 0-1.04.2-1.43.59L10.3 9.45l-7.72 7.72c-.78.78-.78 2.05 0 2.83L4 21.41c.39.39.9.59 1.41.59.51 0 1.02-.2 1.41-.59l7.78-7.78 2.81-2.81c.8-.78.8-2.07 0-2.86zM5.41 20L4 18.59l7.72-7.72 1.47 1.35L5.41 20z\"/>\n",
              "  </svg>\n",
              "      </button>\n",
              "      \n",
              "  <style>\n",
              "    .colab-df-container {\n",
              "      display:flex;\n",
              "      flex-wrap:wrap;\n",
              "      gap: 12px;\n",
              "    }\n",
              "\n",
              "    .colab-df-convert {\n",
              "      background-color: #E8F0FE;\n",
              "      border: none;\n",
              "      border-radius: 50%;\n",
              "      cursor: pointer;\n",
              "      display: none;\n",
              "      fill: #1967D2;\n",
              "      height: 32px;\n",
              "      padding: 0 0 0 0;\n",
              "      width: 32px;\n",
              "    }\n",
              "\n",
              "    .colab-df-convert:hover {\n",
              "      background-color: #E2EBFA;\n",
              "      box-shadow: 0px 1px 2px rgba(60, 64, 67, 0.3), 0px 1px 3px 1px rgba(60, 64, 67, 0.15);\n",
              "      fill: #174EA6;\n",
              "    }\n",
              "\n",
              "    [theme=dark] .colab-df-convert {\n",
              "      background-color: #3B4455;\n",
              "      fill: #D2E3FC;\n",
              "    }\n",
              "\n",
              "    [theme=dark] .colab-df-convert:hover {\n",
              "      background-color: #434B5C;\n",
              "      box-shadow: 0px 1px 3px 1px rgba(0, 0, 0, 0.15);\n",
              "      filter: drop-shadow(0px 1px 2px rgba(0, 0, 0, 0.3));\n",
              "      fill: #FFFFFF;\n",
              "    }\n",
              "  </style>\n",
              "\n",
              "      <script>\n",
              "        const buttonEl =\n",
              "          document.querySelector('#df-51945d05-2094-465b-9c48-2a6046affdc7 button.colab-df-convert');\n",
              "        buttonEl.style.display =\n",
              "          google.colab.kernel.accessAllowed ? 'block' : 'none';\n",
              "\n",
              "        async function convertToInteractive(key) {\n",
              "          const element = document.querySelector('#df-51945d05-2094-465b-9c48-2a6046affdc7');\n",
              "          const dataTable =\n",
              "            await google.colab.kernel.invokeFunction('convertToInteractive',\n",
              "                                                     [key], {});\n",
              "          if (!dataTable) return;\n",
              "\n",
              "          const docLinkHtml = 'Like what you see? Visit the ' +\n",
              "            '<a target=\"_blank\" href=https://colab.research.google.com/notebooks/data_table.ipynb>data table notebook</a>'\n",
              "            + ' to learn more about interactive tables.';\n",
              "          element.innerHTML = '';\n",
              "          dataTable['output_type'] = 'display_data';\n",
              "          await google.colab.output.renderOutput(dataTable, element);\n",
              "          const docLink = document.createElement('div');\n",
              "          docLink.innerHTML = docLinkHtml;\n",
              "          element.appendChild(docLink);\n",
              "        }\n",
              "      </script>\n",
              "    </div>\n",
              "  </div>\n",
              "  "
            ]
          },
          "metadata": {},
          "execution_count": 33
        }
      ]
    },
    {
      "cell_type": "code",
      "source": [
        "df_tmranking.groupby(['group','year_play'])['playerID','ranking'].agg({'playerID':'count','ranking':'mean'})"
      ],
      "metadata": {
        "colab": {
          "base_uri": "https://localhost:8080/",
          "height": 323
        },
        "id": "ZZduRTMWBEfS",
        "outputId": "a3d3ab3a-3d14-451a-b56f-894f94e1090e"
      },
      "execution_count": null,
      "outputs": [
        {
          "output_type": "stream",
          "name": "stderr",
          "text": [
            "/usr/local/lib/python3.7/dist-packages/ipykernel_launcher.py:1: FutureWarning: Indexing with multiple keys (implicitly converted to a tuple of keys) will be deprecated, use a list instead.\n",
            "  \"\"\"Entry point for launching an IPython kernel.\n"
          ]
        },
        {
          "output_type": "execute_result",
          "data": {
            "text/plain": [
              "                 playerID    ranking\n",
              "group year_play                     \n",
              "1     1              1240  11.788746\n",
              "      2               592  12.502242\n",
              "      3               257  12.247312\n",
              "2     1              1471  11.460711\n",
              "      2              1450  11.476068\n",
              "      3              1541  11.279264"
            ],
            "text/html": [
              "\n",
              "  <div id=\"df-505c1a05-594e-4cb9-b155-651a252a7f6d\">\n",
              "    <div class=\"colab-df-container\">\n",
              "      <div>\n",
              "<style scoped>\n",
              "    .dataframe tbody tr th:only-of-type {\n",
              "        vertical-align: middle;\n",
              "    }\n",
              "\n",
              "    .dataframe tbody tr th {\n",
              "        vertical-align: top;\n",
              "    }\n",
              "\n",
              "    .dataframe thead th {\n",
              "        text-align: right;\n",
              "    }\n",
              "</style>\n",
              "<table border=\"1\" class=\"dataframe\">\n",
              "  <thead>\n",
              "    <tr style=\"text-align: right;\">\n",
              "      <th></th>\n",
              "      <th></th>\n",
              "      <th>playerID</th>\n",
              "      <th>ranking</th>\n",
              "    </tr>\n",
              "    <tr>\n",
              "      <th>group</th>\n",
              "      <th>year_play</th>\n",
              "      <th></th>\n",
              "      <th></th>\n",
              "    </tr>\n",
              "  </thead>\n",
              "  <tbody>\n",
              "    <tr>\n",
              "      <th rowspan=\"3\" valign=\"top\">1</th>\n",
              "      <th>1</th>\n",
              "      <td>1240</td>\n",
              "      <td>11.788746</td>\n",
              "    </tr>\n",
              "    <tr>\n",
              "      <th>2</th>\n",
              "      <td>592</td>\n",
              "      <td>12.502242</td>\n",
              "    </tr>\n",
              "    <tr>\n",
              "      <th>3</th>\n",
              "      <td>257</td>\n",
              "      <td>12.247312</td>\n",
              "    </tr>\n",
              "    <tr>\n",
              "      <th rowspan=\"3\" valign=\"top\">2</th>\n",
              "      <th>1</th>\n",
              "      <td>1471</td>\n",
              "      <td>11.460711</td>\n",
              "    </tr>\n",
              "    <tr>\n",
              "      <th>2</th>\n",
              "      <td>1450</td>\n",
              "      <td>11.476068</td>\n",
              "    </tr>\n",
              "    <tr>\n",
              "      <th>3</th>\n",
              "      <td>1541</td>\n",
              "      <td>11.279264</td>\n",
              "    </tr>\n",
              "  </tbody>\n",
              "</table>\n",
              "</div>\n",
              "      <button class=\"colab-df-convert\" onclick=\"convertToInteractive('df-505c1a05-594e-4cb9-b155-651a252a7f6d')\"\n",
              "              title=\"Convert this dataframe to an interactive table.\"\n",
              "              style=\"display:none;\">\n",
              "        \n",
              "  <svg xmlns=\"http://www.w3.org/2000/svg\" height=\"24px\"viewBox=\"0 0 24 24\"\n",
              "       width=\"24px\">\n",
              "    <path d=\"M0 0h24v24H0V0z\" fill=\"none\"/>\n",
              "    <path d=\"M18.56 5.44l.94 2.06.94-2.06 2.06-.94-2.06-.94-.94-2.06-.94 2.06-2.06.94zm-11 1L8.5 8.5l.94-2.06 2.06-.94-2.06-.94L8.5 2.5l-.94 2.06-2.06.94zm10 10l.94 2.06.94-2.06 2.06-.94-2.06-.94-.94-2.06-.94 2.06-2.06.94z\"/><path d=\"M17.41 7.96l-1.37-1.37c-.4-.4-.92-.59-1.43-.59-.52 0-1.04.2-1.43.59L10.3 9.45l-7.72 7.72c-.78.78-.78 2.05 0 2.83L4 21.41c.39.39.9.59 1.41.59.51 0 1.02-.2 1.41-.59l7.78-7.78 2.81-2.81c.8-.78.8-2.07 0-2.86zM5.41 20L4 18.59l7.72-7.72 1.47 1.35L5.41 20z\"/>\n",
              "  </svg>\n",
              "      </button>\n",
              "      \n",
              "  <style>\n",
              "    .colab-df-container {\n",
              "      display:flex;\n",
              "      flex-wrap:wrap;\n",
              "      gap: 12px;\n",
              "    }\n",
              "\n",
              "    .colab-df-convert {\n",
              "      background-color: #E8F0FE;\n",
              "      border: none;\n",
              "      border-radius: 50%;\n",
              "      cursor: pointer;\n",
              "      display: none;\n",
              "      fill: #1967D2;\n",
              "      height: 32px;\n",
              "      padding: 0 0 0 0;\n",
              "      width: 32px;\n",
              "    }\n",
              "\n",
              "    .colab-df-convert:hover {\n",
              "      background-color: #E2EBFA;\n",
              "      box-shadow: 0px 1px 2px rgba(60, 64, 67, 0.3), 0px 1px 3px 1px rgba(60, 64, 67, 0.15);\n",
              "      fill: #174EA6;\n",
              "    }\n",
              "\n",
              "    [theme=dark] .colab-df-convert {\n",
              "      background-color: #3B4455;\n",
              "      fill: #D2E3FC;\n",
              "    }\n",
              "\n",
              "    [theme=dark] .colab-df-convert:hover {\n",
              "      background-color: #434B5C;\n",
              "      box-shadow: 0px 1px 3px 1px rgba(0, 0, 0, 0.15);\n",
              "      filter: drop-shadow(0px 1px 2px rgba(0, 0, 0, 0.3));\n",
              "      fill: #FFFFFF;\n",
              "    }\n",
              "  </style>\n",
              "\n",
              "      <script>\n",
              "        const buttonEl =\n",
              "          document.querySelector('#df-505c1a05-594e-4cb9-b155-651a252a7f6d button.colab-df-convert');\n",
              "        buttonEl.style.display =\n",
              "          google.colab.kernel.accessAllowed ? 'block' : 'none';\n",
              "\n",
              "        async function convertToInteractive(key) {\n",
              "          const element = document.querySelector('#df-505c1a05-594e-4cb9-b155-651a252a7f6d');\n",
              "          const dataTable =\n",
              "            await google.colab.kernel.invokeFunction('convertToInteractive',\n",
              "                                                     [key], {});\n",
              "          if (!dataTable) return;\n",
              "\n",
              "          const docLinkHtml = 'Like what you see? Visit the ' +\n",
              "            '<a target=\"_blank\" href=https://colab.research.google.com/notebooks/data_table.ipynb>data table notebook</a>'\n",
              "            + ' to learn more about interactive tables.';\n",
              "          element.innerHTML = '';\n",
              "          dataTable['output_type'] = 'display_data';\n",
              "          await google.colab.output.renderOutput(dataTable, element);\n",
              "          const docLink = document.createElement('div');\n",
              "          docLink.innerHTML = docLinkHtml;\n",
              "          element.appendChild(docLink);\n",
              "        }\n",
              "      </script>\n",
              "    </div>\n",
              "  </div>\n",
              "  "
            ]
          },
          "metadata": {},
          "execution_count": 34
        }
      ]
    },
    {
      "cell_type": "code",
      "source": [
        "df_playeroff= df_tmranking[(df_tmranking['group']==1)&(~df_tmranking['playerID'].isin(df_tmranking[(df_tmranking['group']==1)&(df_tmranking['year_play']>=2)]['playerID']))]\n",
        "df_playeroff['year_play'].count()"
      ],
      "metadata": {
        "colab": {
          "base_uri": "https://localhost:8080/"
        },
        "id": "2XKdgxD5JNsS",
        "outputId": "6559ef1c-ba0b-46aa-c7b5-d795e6cd28f3"
      },
      "execution_count": null,
      "outputs": [
        {
          "output_type": "execute_result",
          "data": {
            "text/plain": [
              "713"
            ]
          },
          "metadata": {},
          "execution_count": 35
        }
      ]
    },
    {
      "cell_type": "code",
      "source": [
        "sns.countplot(data=df_tmranking[(df_tmranking['group']==1)&(df_tmranking['year_play']==2)],\n",
        "              x='ranking')"
      ],
      "metadata": {
        "colab": {
          "base_uri": "https://localhost:8080/",
          "height": 298
        },
        "id": "TyrZwpq8IUs0",
        "outputId": "6f318bef-8564-44fd-a673-137846d6fc73"
      },
      "execution_count": null,
      "outputs": [
        {
          "output_type": "execute_result",
          "data": {
            "text/plain": [
              "<matplotlib.axes._subplots.AxesSubplot at 0x7f32933d2ed0>"
            ]
          },
          "metadata": {},
          "execution_count": 36
        },
        {
          "output_type": "display_data",
          "data": {
            "text/plain": [
              "<Figure size 432x288 with 1 Axes>"
            ],
            "image/png": "[encoded data removed]"
          },
          "metadata": {
            "needs_background": "light"
          }
        }
      ]
    },
    {
      "cell_type": "markdown",
      "source": [
        "# conclusion\n",
        "\n",
        "\n"
      ],
      "metadata": {
        "id": "-9dhbIVKkMs_"
      }
    },
    {
      "cell_type": "code",
      "source": [
        "plt.figure(figsize=(20, 5))\n",
        "plt.subplot(121)\n",
        "plt.title(\"Changes in Ages when drafted between 2 groups\", fontweight='bold')\n",
        "sns.lineplot(\n",
        "    data=df_players[df_players['year_start']<2016].groupby(['year_start','group'])['Age_draft'].mean().reset_index(), \n",
        "    x=\"year_start\", y=\"Age_draft\",\n",
        "    hue=\"group\")\n",
        "plt.axhline(df_players[(df_players['group']==1)&(df_players['year_start']<2016)]['Age_draft'].mean(), color='wheat', linestyle='--')\n",
        "plt.axhline(df_players[(df_players['group']==2)&(df_players['year_start']<2016)]['Age_draft'].mean(), color='darkgoldenrod', linestyle='--')\n",
        "plt.xlim(1980, 2017)\n",
        "\n",
        "plt.subplot(122)\n",
        "plt.title(\"Changes in Ages when retired between 2 groups\", fontweight='bold')\n",
        "sns.lineplot(\n",
        "    data=df_players.groupby(['year_end','group'])['Age_retired'].mean().reset_index(), \n",
        "    x=\"year_end\", y=\"Age_retired\",\n",
        "    hue=\"group\")\n",
        "plt.axhline(df_players[df_players['group']==1]['Age_retired'].mean(), color='wheat', linestyle='--')\n",
        "plt.axhline(df_players[df_players['group']==2]['Age_retired'].mean(), color='darkgoldenrod', linestyle='--')\n",
        "plt.xlim(1980, 2017)"
      ],
      "metadata": {
        "colab": {
          "base_uri": "https://localhost:8080/",
          "height": 368
        },
        "id": "G1kbo6c9kYoE",
        "outputId": "478ed48a-e5d2-4f77-8ab3-cc1e1a01b1dd"
      },
      "execution_count": null,
      "outputs": [
        {
          "output_type": "execute_result",
          "data": {
            "text/plain": [
              "(1980.0, 2017.0)"
            ]
          },
          "metadata": {},
          "execution_count": 42
        },
        {
          "output_type": "display_data",
          "data": {
            "text/plain": [
              "<Figure size 1440x360 with 2 Axes>"
            ],
            "image/png": "[encoded data removed]"
          },
          "metadata": {
            "needs_background": "light"
          }
        }
      ]
    },
    {
      "cell_type": "code",
      "source": [
        "print(df_seasons[df_seasons['year_play']<=3].groupby(['year_play','group'])['Age','G','MP','PER'].mean().reset_index())\n",
        "\n",
        "plt.figure(figsize=(20, 5))\n",
        "plt.subplot(131)\n",
        "sns.barplot(data=df_playerstats.groupby('group')['MP','G','PER'].mean().reset_index(),\n",
        "            x = 'group',\n",
        "            y = 'MP')\n",
        "\n",
        "plt.subplot(132)\n",
        "sns.barplot(data=df_playerstats.groupby('group')['MP','G','PER'].mean().reset_index(),\n",
        "            x = 'group',\n",
        "            y = 'G')\n",
        "\n",
        "plt.subplot(133)\n",
        "sns.barplot(data=df_playerstats.groupby('group')['MP','G','PER'].mean().reset_index(),\n",
        "            x = 'group',\n",
        "            y = 'PER')"
      ],
      "metadata": {
        "colab": {
          "base_uri": "https://localhost:8080/",
          "height": 632
        },
        "id": "lg-8IHDgkoc6",
        "outputId": "d9d024ed-d4d2-44c1-ede7-bfff555314b6"
      },
      "execution_count": null,
      "outputs": [
        {
          "output_type": "stream",
          "name": "stdout",
          "text": [
            "   year_play  group        Age          G           MP        PER\n",
            "0          1      1  23.218548  25.724194   327.156452   8.684814\n",
            "1          1      2  22.252889  50.439837   958.440517  11.507342\n",
            "2          2      1  23.903716  28.625000   391.859797   8.978378\n",
            "3          2      2  23.222759  54.524138  1225.207586  12.531310\n",
            "4          3      1  24.848249  22.245136   272.346304   9.048638\n",
            "5          3      2  24.164179  53.479559  1253.378326  13.279727\n"
          ]
        },
        {
          "output_type": "stream",
          "name": "stderr",
          "text": [
            "/usr/local/lib/python3.7/dist-packages/ipykernel_launcher.py:1: FutureWarning: Indexing with multiple keys (implicitly converted to a tuple of keys) will be deprecated, use a list instead.\n",
            "  \"\"\"Entry point for launching an IPython kernel.\n",
            "/usr/local/lib/python3.7/dist-packages/ipykernel_launcher.py:5: FutureWarning: Indexing with multiple keys (implicitly converted to a tuple of keys) will be deprecated, use a list instead.\n",
            "  \"\"\"\n",
            "/usr/local/lib/python3.7/dist-packages/ipykernel_launcher.py:10: FutureWarning: Indexing with multiple keys (implicitly converted to a tuple of keys) will be deprecated, use a list instead.\n",
            "  # Remove the CWD from sys.path while we load stuff.\n",
            "/usr/local/lib/python3.7/dist-packages/ipykernel_launcher.py:15: FutureWarning: Indexing with multiple keys (implicitly converted to a tuple of keys) will be deprecated, use a list instead.\n",
            "  from ipykernel import kernelapp as app\n"
          ]
        },
        {
          "output_type": "execute_result",
          "data": {
            "text/plain": [
              "<matplotlib.axes._subplots.AxesSubplot at 0x7f3292f57f50>"
            ]
          },
          "metadata": {},
          "execution_count": 43
        },
        {
          "output_type": "display_data",
          "data": {
            "text/plain": [
              "<Figure size 1440x360 with 3 Axes>"
            ],
            "image/png": "[encoded data removed]"
          },
          "metadata": {
            "needs_background": "light"
          }
        }
      ]
    },
    {
      "cell_type": "code",
      "source": [
        "mydict ={'MMP_all_24t':[df_seasons[df_seasons['Age']==23]['MP'].mean()],               \n",
        "         'MMP_draft_24t':[df_seasons[(df_seasons['playerID'].isin(df_players[df_players['Age_draft']==24]['playerID']))]['MP'].mean()],\n",
        "         'MMP_G2_24t':[df_seasons[(df_seasons['Age']==23)&(df_seasons['group']==2)]['MP'].mean()],\n",
        "         'MMP_G1_24t':[df_seasons[(df_seasons['Age']==23)&(df_seasons['group']==1)]['MP'].mean()],\n",
        "         'MMP_draft_G1_24t_0year':[df_seasons[(df_seasons['Age']==23)&(df_seasons['group']==1)&(df_seasons['year_play']==1)]['MP'].mean()],\n",
        "         'MMP_draft_G1_25t_1year':[df_seasons[(df_seasons['Age']==24)&(df_seasons['group']==1)&(df_seasons['year_play']==2)]['MP'].mean()],\n",
        "         'MMP_draft_G1_26t_2year':[df_seasons[(df_seasons['Age']==25)&(df_seasons['group']==1)&(df_seasons['year_play']==3)]['MP'].mean()],\n",
        "         'MMP_draft_G2_24t_0year':[df_seasons[(df_seasons['Age']==23)&(df_seasons['group']==2)&(df_seasons['year_play']==1)]['MP'].mean()],\n",
        "         'MMP_draft_G2_25t_1year':[df_seasons[(df_seasons['Age']==24)&(df_seasons['group']==2)&(df_seasons['year_play']==2)]['MP'].mean()],\n",
        "         'MMP_draft_G2_26t_2year':[df_seasons[(df_seasons['Age']==25)&(df_seasons['group']==2)&(df_seasons['year_play']==3)]['MP'].mean()]}\n",
        "\n",
        "df_1 = pd.DataFrame(mydict)"
      ],
      "metadata": {
        "id": "YGXs720QmcsU"
      },
      "execution_count": null,
      "outputs": []
    },
    {
      "cell_type": "code",
      "source": [
        "df_tmranking[df_tmranking['Age']==23].groupby('ranking')['MP'].mean()\n",
        "plt.figure(figsize=(10, 10))\n",
        "sns.barplot(data=df_tmranking[(df_tmranking['Age']==23)].groupby(['ranking','group'])['MP'].mean().reset_index(),\n",
        "              x='ranking',y='MP',hue='group')"
      ],
      "metadata": {
        "colab": {
          "base_uri": "https://localhost:8080/",
          "height": 623
        },
        "id": "jZ79wbHfrSmH",
        "outputId": "b490e753-2c1d-414d-9023-abb3bde5869d"
      },
      "execution_count": null,
      "outputs": [
        {
          "output_type": "execute_result",
          "data": {
            "text/plain": [
              "<matplotlib.axes._subplots.AxesSubplot at 0x7f32930c62d0>"
            ]
          },
          "metadata": {},
          "execution_count": 45
        },
        {
          "output_type": "display_data",
          "data": {
            "text/plain": [
              "<Figure size 720x720 with 1 Axes>"
            ],
            "image/png": "[encoded data removed]"
          },
          "metadata": {
            "needs_background": "light"
          }
        }
      ]
    },
    {
      "cell_type": "code",
      "source": [
        "plt.figure(figsize=(20, 8))\n",
        "plt.subplot(131)\n",
        "sns.barplot(data=df_tmranking[(df_tmranking['Age']==23)&(df_tmranking['position'].str.contains(\"F\"))].groupby(['ranking','group'])['MP'].mean().reset_index(),\n",
        "              x='ranking',y='MP',hue='group')\n",
        "plt.ylim(250, 2000)\n",
        "plt.subplot(132)\n",
        "sns.barplot(data=df_tmranking[(df_tmranking['Age']==23)&(df_tmranking['position'].str.contains(\"G\"))].groupby(['ranking','group'])['MP'].mean().reset_index(),\n",
        "              x='ranking',y='MP',hue='group')\n",
        "plt.ylim(250, 2000)\n",
        "plt.subplot(133)\n",
        "sns.barplot(data=df_tmranking[(df_tmranking['Age']==23)&(df_tmranking['position'].str.contains(\"C\"))].groupby(['ranking','group'])['MP'].mean().reset_index(),\n",
        "              x='ranking',y='MP',hue='group')\n",
        "plt.ylim(250, 2000)"
      ],
      "metadata": {
        "colab": {
          "base_uri": "https://localhost:8080/",
          "height": 518
        },
        "id": "Ijm4F-P3tAde",
        "outputId": "c221a7ec-166e-4ab9-e00a-cc53bb425a6f"
      },
      "execution_count": null,
      "outputs": [
        {
          "output_type": "execute_result",
          "data": {
            "text/plain": [
              "(250.0, 2000.0)"
            ]
          },
          "metadata": {},
          "execution_count": 46
        },
        {
          "output_type": "display_data",
          "data": {
            "text/plain": [
              "<Figure size 1440x576 with 3 Axes>"
            ],
            "image/png": "[encoded data removed]"
          },
          "metadata": {
            "needs_background": "light"
          }
        }
      ]
    },
    {
      "cell_type": "code",
      "source": [
        "aF = df_tmranking[(df_tmranking['Age']==23)&(df_tmranking['position'].str.contains(\"F\"))].groupby(['ranking','group'])['MP'].mean().reset_index()\n",
        "aG = df_tmranking[(df_tmranking['Age']==23)&(df_tmranking['position'].str.contains(\"G\"))].groupby(['ranking','group'])['MP'].mean().reset_index()\n",
        "aC = df_tmranking[(df_tmranking['Age']==23)&(df_tmranking['position'].str.contains(\"C\"))].groupby(['ranking','group'])['MP'].mean().reset_index()\n",
        "aF['position'] = 'F'\n",
        "aG['position'] = 'G'\n",
        "aC['position'] = 'C'\n"
      ],
      "metadata": {
        "id": "fbcBkfxPfqe4"
      },
      "execution_count": null,
      "outputs": []
    },
    {
      "cell_type": "code",
      "source": [
        "dfleft1 = df_players[(df_players['position'].str.contains(\"F\"))&(df_players['Age_draft']==24)].groupby('group')['position'].count()\n",
        "dfright1 = df_players[(df_players['position'].str.contains(\"C\"))&(df_players['Age_draft']==24)].groupby('group')['position'].count()\n",
        "df3 = pd.merge(dfleft1, dfright1, how='inner', \n",
        "         left_index=True, right_index=True)\n",
        "dfright3 = df_players[(df_players['position'].str.contains(\"G\"))&(df_players['Age_draft']==24)].groupby('group')['position'].count()\n",
        "df4 = pd.merge(df3, dfright3, how='inner', \n",
        "         left_index=True, right_index=True)\n",
        "df4.columns = ['F','C','G']\n",
        "df4 = df4.reset_index()\n",
        "df4 = df4.melt(id_vars='group', \n",
        "              value_vars=['F','C','G'],\n",
        "              var_name='position',\n",
        "              value_name='number_of_players')\n",
        "plt.figure(figsize=(20, 7))\n",
        "plt.subplot(141)\n",
        "sns.barplot(data=df4,\n",
        "            x = 'position',\n",
        "            y = 'number_of_players',\n",
        "            hue = 'group')\n",
        "\n",
        "plt.subplot(142)\n",
        "plt.pie(df4['number_of_players'],labels = df4['position'], autopct = '%0.0f%%')\n",
        "plt.title(\"Group 1\")\n",
        "\n",
        "plt.subplot(143)\n",
        "plt.pie(df4[df4['group']==1]['number_of_players'],labels = df4[df4['group']==1]['position'], autopct = '%0.0f%%')\n",
        "plt.title(\"Group 1\")\n",
        "\n",
        "plt.subplot(144)\n",
        "plt.pie(df4[df4['group']==2]['number_of_players'],labels = df4[df4['group']==1]['position'], autopct = '%0.0f%%')\n",
        "plt.title(\"Group 2\")"
      ],
      "metadata": {
        "colab": {
          "base_uri": "https://localhost:8080/",
          "height": 459
        },
        "id": "Bd16dUvTyPwH",
        "outputId": "6fb3de7d-d483-40e2-ea6d-c47e1dfa9d58"
      },
      "execution_count": null,
      "outputs": [
        {
          "output_type": "execute_result",
          "data": {
            "text/plain": [
              "Text(0.5, 1.0, 'Group 2')"
            ]
          },
          "metadata": {},
          "execution_count": 47
        },
        {
          "output_type": "display_data",
          "data": {
            "text/plain": [
              "<Figure size 1440x504 with 4 Axes>"
            ],
            "image/png": "[encoded data removed]"
          },
          "metadata": {
            "needs_background": "light"
          }
        }
      ]
    },
    {
      "cell_type": "code",
      "source": [
        "#các bảng phụ\n",
        "\n",
        "#physical\n",
        "#Changes in Physical stats when drafted between 2 groups with weight and height\n",
        "df_height = df_players.groupby(['year_start','group'])['height'].mean().reset_index()\n",
        "df_weight = df_players.groupby(['year_start','group'])['weight'].mean().reset_index()\n",
        "#Age\n",
        "DF_agedraft = df_players[df_players['year_start']<2016].groupby(['year_start','group'])['Age_draft'].mean().reset_index()\n",
        "df_ageretired = df_players.groupby(['year_end','group'])['Age_retired'].mean().reset_index()\n",
        "#Position\n",
        "df_numberofplayer = df2\n",
        "\n",
        "#Technique\n",
        "#skill_ratio\n",
        "df_skillsetall = pd.concat([df_playerstats[df_playerstats['position'].str.contains(\"F\")].groupby('group')['BLK%','AST%','TRB%'].mean(), df_playerstats[df_playerstats['position'].str.contains(\"C\")].groupby('group')['2P%','FT%','ORB%','DRB%','BLK%'].mean(), df_playerstats[df_playerstats['position'].str.contains(\"G\")].groupby('group')['AST%','3P%','TOV%','STL%'].mean()], axis=0)\n",
        "df_skillsetiny1 = pd.concat([df_seasons[(df_seasons['position'].str.contains(\"F\"))&(df_seasons['year_play']==1)].groupby('group')['BLK%','AST%','TRB%'].mean(), df_seasons[(df_seasons['position'].str.contains(\"C\"))&(df_seasons['year_play']==1)].groupby('group')['2P%','FT%','ORB%','DRB%','BLK%'].mean(), df_seasons[(df_seasons['position'].str.contains(\"G\"))&(df_seasons['year_play']==1)].groupby('group')['AST%','3P%','TOV%','STL%'].mean()], axis=0)\n",
        "df_skillsetiny2 = pd.concat([df_seasons[(df_seasons['position'].str.contains(\"F\"))&(df_seasons['year_play']==2)].groupby('group')['BLK%','AST%','TRB%'].mean(), df_seasons[(df_seasons['position'].str.contains(\"C\"))&(df_seasons['year_play']==2)].groupby('group')['2P%','FT%','ORB%','DRB%','BLK%'].mean(), df_seasons[(df_seasons['position'].str.contains(\"G\"))&(df_seasons['year_play']==2)].groupby('group')['AST%','3P%','TOV%','STL%'].mean()], axis=0)\n",
        "df_skillsetiny3 = pd.concat([df_seasons[(df_seasons['position'].str.contains(\"F\"))&(df_seasons['year_play']==3)].groupby('group')['BLK%','AST%','TRB%'].mean(), df_seasons[(df_seasons['position'].str.contains(\"C\"))&(df_seasons['year_play']==3)].groupby('group')['2P%','FT%','ORB%','DRB%','BLK%'].mean(), df_seasons[(df_seasons['position'].str.contains(\"G\"))&(df_seasons['year_play']==3)].groupby('group')['AST%','3P%','TOV%','STL%'].mean()], axis=0)\n",
        "#skill attempt\n",
        "df_skillattall = pd.concat([(df_playerstats[df_playerstats['position'].str.contains(\"F\")].groupby('group')['BLK','AST','TRB','MP','G'].mean()), (df_playerstats[df_playerstats['position'].str.contains(\"C\")].groupby('group')['2P','FT','ORB','DRB','BLK','2PA','FTA','MP','G'].mean()),(df_playerstats[df_playerstats['position'].str.contains(\"G\")].groupby('group')['AST','3P','TOV','STL','3PA','MP','G'].mean())],axis=0)\n",
        "df_skillatty1 = pd.concat([(df_seasons[(df_seasons['position'].str.contains(\"F\"))&(df_seasons['year_play']==1)].groupby('group')['BLK','AST','TRB','MP','G'].mean()),(df_seasons[(df_seasons['position'].str.contains(\"C\"))&(df_seasons['year_play']==1)].groupby('group')['2P','FT','ORB','DRB','BLK','2PA','FTA','MP','G'].mean()),(df_seasons[(df_seasons['position'].str.contains(\"G\"))&(df_seasons['year_play']==1)].groupby('group')['AST','3P','TOV','STL','3PA','MP','G'].mean())],axis=0)\n",
        "df_skillatty2 = pd.concat([(df_seasons[(df_seasons['position'].str.contains(\"F\"))&(df_seasons['year_play']==2)].groupby('group')['BLK','AST','TRB','MP','G'].mean()),(df_seasons[(df_seasons['position'].str.contains(\"C\"))&(df_seasons['year_play']==2)].groupby('group')['2P','FT','ORB','DRB','BLK','2PA','FTA','MP','G'].mean()),(df_seasons[(df_seasons['position'].str.contains(\"G\"))&(df_seasons['year_play']==2)].groupby('group')['AST','3P','TOV','STL','3PA','MP','G'].mean())],axis=0)\n",
        "df_skillatty3 = pd.concat([(df_seasons[(df_seasons['position'].str.contains(\"F\"))&(df_seasons['year_play']==3)].groupby('group')['BLK','AST','TRB','MP','G'].mean()),(df_seasons[(df_seasons['position'].str.contains(\"C\"))&(df_seasons['year_play']==3)].groupby('group')['2P','FT','ORB','DRB','BLK','2PA','FTA','MP','G'].mean()),(df_seasons[(df_seasons['position'].str.contains(\"G\"))&(df_seasons['year_play']==3)].groupby('group')['AST','3P','TOV','STL','3PA','MP','G'].mean())],axis=0)\n",
        "\n",
        "#bangr chính\n",
        "\n",
        "DF_agedraft\n",
        "DF_minuteplay = df_seasons[df_seasons['year_play']<=3].groupby(['year_play','group'])['Age','G','MP','PER'].mean().reset_index()\n",
        "DF_24sample = df_1\n",
        "DF_ranking24 = pd.concat([aF,aG,aC],axis=0)\n",
        "DF_numberofplayer24  = df4\n",
        "\n",
        "\n"
      ],
      "metadata": {
        "colab": {
          "base_uri": "https://localhost:8080/"
        },
        "id": "H4YxAmhRajGg",
        "outputId": "177a682e-ab35-492e-e723-7716caf6119c"
      },
      "execution_count": null,
      "outputs": [
        {
          "output_type": "stream",
          "name": "stderr",
          "text": [
            "/usr/local/lib/python3.7/dist-packages/ipykernel_launcher.py:15: FutureWarning: Indexing with multiple keys (implicitly converted to a tuple of keys) will be deprecated, use a list instead.\n",
            "  from ipykernel import kernelapp as app\n",
            "/usr/local/lib/python3.7/dist-packages/ipykernel_launcher.py:16: FutureWarning: Indexing with multiple keys (implicitly converted to a tuple of keys) will be deprecated, use a list instead.\n",
            "  app.launch_new_instance()\n",
            "/usr/local/lib/python3.7/dist-packages/ipykernel_launcher.py:17: FutureWarning: Indexing with multiple keys (implicitly converted to a tuple of keys) will be deprecated, use a list instead.\n",
            "/usr/local/lib/python3.7/dist-packages/ipykernel_launcher.py:18: FutureWarning: Indexing with multiple keys (implicitly converted to a tuple of keys) will be deprecated, use a list instead.\n",
            "/usr/local/lib/python3.7/dist-packages/ipykernel_launcher.py:20: FutureWarning: Indexing with multiple keys (implicitly converted to a tuple of keys) will be deprecated, use a list instead.\n",
            "/usr/local/lib/python3.7/dist-packages/ipykernel_launcher.py:21: FutureWarning: Indexing with multiple keys (implicitly converted to a tuple of keys) will be deprecated, use a list instead.\n",
            "/usr/local/lib/python3.7/dist-packages/ipykernel_launcher.py:22: FutureWarning: Indexing with multiple keys (implicitly converted to a tuple of keys) will be deprecated, use a list instead.\n",
            "/usr/local/lib/python3.7/dist-packages/ipykernel_launcher.py:23: FutureWarning: Indexing with multiple keys (implicitly converted to a tuple of keys) will be deprecated, use a list instead.\n",
            "/usr/local/lib/python3.7/dist-packages/ipykernel_launcher.py:28: FutureWarning: Indexing with multiple keys (implicitly converted to a tuple of keys) will be deprecated, use a list instead.\n"
          ]
        }
      ]
    },
    {
      "cell_type": "code",
      "source": [
        "export_data_to_new_sheet('1rpW1i0EvY_zHzQHYJ7hxmw1AAb8EROcc3_2Frz4vxM0', 'DF_agedraft', DF_agedraft)\n",
        "export_data_to_new_sheet('1rpW1i0EvY_zHzQHYJ7hxmw1AAb8EROcc3_2Frz4vxM0', 'DF_minuteplay', DF_minuteplay)\n",
        "export_data_to_new_sheet('1rpW1i0EvY_zHzQHYJ7hxmw1AAb8EROcc3_2Frz4vxM0', 'DF_24sample', DF_24sample)\n",
        "export_data_to_new_sheet('1rpW1i0EvY_zHzQHYJ7hxmw1AAb8EROcc3_2Frz4vxM0', 'DF_ranking24', DF_ranking24)\n",
        "export_data_to_new_sheet('1rpW1i0EvY_zHzQHYJ7hxmw1AAb8EROcc3_2Frz4vxM0', 'DF_numberofplayer24', DF_numberofplayer24)\n",
        "export_data_to_new_sheet('1rpW1i0EvY_zHzQHYJ7hxmw1AAb8EROcc3_2Frz4vxM0', 'df_height', df_height)\n",
        "export_data_to_new_sheet('1rpW1i0EvY_zHzQHYJ7hxmw1AAb8EROcc3_2Frz4vxM0', 'df_weight', df_weight)\n",
        "export_data_to_new_sheet('1rpW1i0EvY_zHzQHYJ7hxmw1AAb8EROcc3_2Frz4vxM0', 'df_ageretired', df_ageretired)\n",
        "export_data_to_new_sheet('1rpW1i0EvY_zHzQHYJ7hxmw1AAb8EROcc3_2Frz4vxM0', 'df_numberofplayer', df_numberofplayer)\n",
        "export_data_to_new_sheet('1rpW1i0EvY_zHzQHYJ7hxmw1AAb8EROcc3_2Frz4vxM0', 'df_skillsetall', df_skillsetall)\n",
        "export_data_to_new_sheet('1rpW1i0EvY_zHzQHYJ7hxmw1AAb8EROcc3_2Frz4vxM0', 'df_skillsetiny1', df_skillsetiny1)\n",
        "export_data_to_new_sheet('1rpW1i0EvY_zHzQHYJ7hxmw1AAb8EROcc3_2Frz4vxM0', 'df_skillsetiny2', df_skillsetiny2)\n",
        "export_data_to_new_sheet('1rpW1i0EvY_zHzQHYJ7hxmw1AAb8EROcc3_2Frz4vxM0', 'df_skillsetiny3', df_skillsetiny3)\n",
        "export_data_to_new_sheet('1rpW1i0EvY_zHzQHYJ7hxmw1AAb8EROcc3_2Frz4vxM0', 'df_skillattall', df_skillattall)\n",
        "export_data_to_new_sheet('1rpW1i0EvY_zHzQHYJ7hxmw1AAb8EROcc3_2Frz4vxM0', 'df_skillatty1', df_skillatty1)\n",
        "export_data_to_new_sheet('1rpW1i0EvY_zHzQHYJ7hxmw1AAb8EROcc3_2Frz4vxM0', 'df_skillatty2', df_skillatty2)\n",
        "export_data_to_new_sheet('1rpW1i0EvY_zHzQHYJ7hxmw1AAb8EROcc3_2Frz4vxM0', 'df_skillatty3', df_skillatty3)"
      ],
      "metadata": {
        "id": "9PztzeHTg-j9"
      },
      "execution_count": null,
      "outputs": []
    }
  ]
}